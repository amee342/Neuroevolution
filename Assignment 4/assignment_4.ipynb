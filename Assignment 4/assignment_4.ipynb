{
  "cells": [
    {
      "cell_type": "markdown",
      "metadata": {
        "id": "QRBDdr0SEqpT"
      },
      "source": [
        "# Assignment 4"
      ]
    },
    {
      "cell_type": "markdown",
      "metadata": {
        "id": "8xd57TRzExEr"
      },
      "source": [
        "**Assignment 4: Neural Networks**\n",
        "\n",
        "**Goal**: ​Get familiar with neural networks by implementing them and applying them to image classification."
      ]
    },
    {
      "cell_type": "markdown",
      "metadata": {
        "id": "yHNgWB1iFDu5"
      },
      "source": [
        "In this assignment we are going to learn about neural networks (NNs). The goal is to implement two neural networks: a fully-connected neural network, a convolutional neural network, and analyze their behavior.\n",
        "\n",
        "The considered task is image classification. We consider a dataset of small natural images (see the additional file) with multiple classes. We aim at formulating a model (a neural network) and learning it using the negative log-likelihood function (i.e., the cross-entropy loss) as the objective function, and the stochastic gradient descent as the optimizer.\n",
        "\n",
        "In this assignment, ​**the code must be implemented in PyTorch**."
      ]
    },
    {
      "cell_type": "markdown",
      "metadata": {
        "id": "Jxgc7c--P0GH"
      },
      "source": [
        "## 1 Understanding the problem\n",
        "\n"
      ]
    },
    {
      "cell_type": "markdown",
      "metadata": {
        "id": "oRteDLEPP3eX"
      },
      "source": [
        "The considered problem is about classifying images to $L$ classes. In the first part of the assignment, you are asked get familiar with PyTorch, a deep learning library, and the basics of neural networks, and implement neural-network-based classifiers. For this purpose, we will start with classifying small images (8px x 8px) of handwritten digits to one of 10 classes. The dataset is very small and all experiments could be achieved within a couple of minutes.\n",
        "\n",
        "In the second part, you are asked to implement the whole pipeline for a given dataset by yourself.\n",
        "\n",
        "Please run the code below and spend a while on analyzing the images.\n",
        "\n",
        "If any code line is unclear to you, please read on that in numpy, scipy, matplotlib and PyTorch docs."
      ]
    },
    {
      "cell_type": "code",
      "execution_count": null,
      "metadata": {
        "id": "g4wCnPRz-MaE"
      },
      "outputs": [],
      "source": [
        "import os\n",
        "\n",
        "import matplotlib.pyplot as plt\n",
        "import numpy as np\n",
        "import torch\n",
        "import torch.nn as nn\n",
        "import torch.nn.functional as F\n",
        "from sklearn import datasets\n",
        "from sklearn.datasets import load_digits\n",
        "from torch.utils.data import DataLoader, Dataset\n",
        "\n",
        "EPS = 1.0e-7"
      ]
    },
    {
      "cell_type": "code",
      "execution_count": null,
      "metadata": {
        "id": "mRmwbuamRuge",
        "colab": {
          "base_uri": "https://localhost:8080/"
        },
        "outputId": "064f58fd-1c77-4403-9211-6f1b5be18dd9"
      },
      "outputs": [
        {
          "output_type": "stream",
          "name": "stdout",
          "text": [
            "Drive already mounted at /content/gdrive; to attempt to forcibly remount, call drive.mount(\"/content/gdrive\", force_remount=True).\n"
          ]
        }
      ],
      "source": [
        "# IF YOU USE COLAB, THIS IS VERY USEFUL! OTHERWISE, PLEASE REMOVE IT.\n",
        "# mount drive: WE NEED IT FOR SAVING IMAGES!\n",
        "from google.colab import drive\n",
        "\n",
        "drive.mount(\"/content/gdrive\")"
      ]
    },
    {
      "cell_type": "code",
      "execution_count": null,
      "metadata": {
        "id": "KEiEJE5sRvjc"
      },
      "outputs": [],
      "source": [
        "# IF YOU USE COLAB, THIS IS VERY USEFUL! OTHERWISE, PLEASE REMOVE IT.\n",
        "# PLEASE CHANGE IT TO YOUR OWN GOOGLE DRIVE!\n",
        "\n",
        "results_dir = \"/gdrive/MyDrive/Computational Intelligence/\"\n"
      ]
    },
    {
      "cell_type": "code",
      "execution_count": null,
      "metadata": {
        "id": "Xm4e0Utl-30c"
      },
      "outputs": [],
      "source": [
        "# PLEASE DO NOT REMOVE!\n",
        "# This is a class for the dataset of small (8px x 8px) digits.\n",
        "# Please try to understand in details how it works!\n",
        "class Digits(Dataset):\n",
        "    \"\"\"Scikit-Learn Digits dataset.\"\"\"\n",
        "\n",
        "    def __init__(self, mode=\"train\", transforms=None):\n",
        "        digits = load_digits() # import dataset\n",
        "        # load digits would contain some parameter\n",
        "        # data (1797,64)\n",
        "        # targets (1797,)\n",
        "        if mode == \"train\":\n",
        "            # 55% for training\n",
        "            self.data = digits.data[:1000].astype(np.float32)\n",
        "            self.targets = digits.target[:1000]\n",
        "        elif mode == \"val\":\n",
        "            # 20% (350 points) for validation\n",
        "            self.data = digits.data[1000:1350].astype(np.float32)\n",
        "            self.targets = digits.target[1000:1350]\n",
        "        else:\n",
        "            # rest for testing\n",
        "            self.data = digits.data[1350:].astype(np.float32)\n",
        "            self.targets = digits.target[1350:]\n",
        "\n",
        "        self.transforms = transforms\n",
        "\n",
        "    def __len__(self):\n",
        "        return len(self.data)\n",
        "\n",
        "    def __getitem__(self, idx):\n",
        "        sample_x = self.data[idx]\n",
        "        sample_y = self.targets[idx]\n",
        "        if self.transforms:\n",
        "            sample_x = self.transforms(sample_x)\n",
        "        return (sample_x, sample_y)"
      ]
    },
    {
      "cell_type": "code",
      "execution_count": null,
      "metadata": {
        "id": "bnDz_yGeuOnh",
        "colab": {
          "base_uri": "https://localhost:8080/",
          "height": 370
        },
        "outputId": "2a298b38-4835-4cf7-cf26-6a314c2946d7"
      },
      "outputs": [
        {
          "output_type": "display_data",
          "data": {
            "text/plain": [
              "<Figure size 400x400 with 16 Axes>"
            ],
            "image/png": "[encoded data removed]"
          },
          "metadata": {}
        }
      ],
      "source": [
        "# PLEASE DO NOT REMOVE\n",
        "# Here, we plot some images (8px x 8px).\n",
        "digits = load_digits()\n",
        "x = digits.data[:16].astype(np.float32)\n",
        "\n",
        "fig_data, axs = plt.subplots(4, 4, figsize=(4, 4))\n",
        "fig_data.tight_layout()\n",
        "\n",
        "for i in range(4):\n",
        "    for j in range(4):\n",
        "        # reshape image from a vector \n",
        "        # to a 8x8 tensor\n",
        "        img = np.reshape(x[4 * i + j], (8, 8))\n",
        "        axs[i, j].imshow(img, cmap=\"gray\")\n",
        "        axs[i, j].axis(\"off\")"
      ]
    },
    {
      "cell_type": "code",
      "source": [
        "# With square kernels and equal stride\n",
        "m = nn.Conv2d(16, 33, 3, stride=2)\n",
        "# non-square kernels and unequal stride and with padding\n",
        "m = nn.Conv2d(16, 33, (3, 5), stride=(2, 1), padding=(4, 2))\n",
        "# non-square kernels and unequal stride and with padding and dilation\n",
        "m = nn.Conv2d(16, 33, (3, 5), stride=(2, 1), padding=(4, 2), dilation=(3, 1))\n",
        "input = torch.randn(20, 16, 50, 100)\n",
        "print(f\"input: {input.shape}\")\n",
        "output = m(input)\n",
        "print(f\"output: {output.shape}\")"
      ],
      "metadata": {
        "colab": {
          "base_uri": "https://localhost:8080/"
        },
        "id": "ERXDTAke3vSc",
        "outputId": "9b01df95-048e-41ec-f8e5-69f235c8738b"
      },
      "execution_count": null,
      "outputs": [
        {
          "output_type": "stream",
          "name": "stdout",
          "text": [
            "input: torch.Size([20, 16, 50, 100])\n",
            "output: torch.Size([20, 33, 26, 100])\n"
          ]
        }
      ]
    },
    {
      "cell_type": "markdown",
      "metadata": {
        "id": "wgc_GFOyRBEi"
      },
      "source": [
        "## 2 Neural Networks for Digits (4pt)"
      ]
    },
    {
      "cell_type": "markdown",
      "metadata": {
        "id": "gDVf1vyORGUB"
      },
      "source": [
        "In this assignment, you are asked to implement a neural network (NN) classifier. Please take a look at the class below and fill in the missing parts.\n",
        "\n",
        "NOTE: Please pay attention to the inputs and outputs of each function."
      ]
    },
    {
      "cell_type": "markdown",
      "metadata": {
        "id": "iwuEfxSKpFtD"
      },
      "source": [
        "### 2.1 Neural Network Classifier"
      ]
    },
    {
      "cell_type": "markdown",
      "metadata": {
        "id": "9FThxxdkpKcQ"
      },
      "source": [
        "Below, we have two helper modules (layers) that can be used to reshape and flatten a tensor. They are useful for creating sequentials with convolutional layers."
      ]
    },
    {
      "cell_type": "code",
      "execution_count": null,
      "metadata": {
        "id": "5AB5Ch63Ak01"
      },
      "outputs": [],
      "source": [
        "# PLEASE DO NOT REMOVE!\n",
        "# Here are two auxiliary functions that can be used for a convolutional NN (CNN).\n",
        "\n",
        "\n",
        "# This module reshapes an input (matrix -> tensor).\n",
        "class Reshape(nn.Module):\n",
        "    def __init__(self, size):\n",
        "        super(Reshape, self).__init__()\n",
        "        self.size = size  # a list\n",
        "\n",
        "    def forward(self, x):\n",
        "        # np.prod would return a product of\n",
        "        # all elements in a list\n",
        "        assert x.shape[1] == np.prod(self.size)\n",
        "        return x.view(x.shape[0], *self.size)\n",
        "  \n",
        "\n",
        "\n",
        "# This module flattens an input (tensor -> matrix) by blending dimensions\n",
        "# beyond the batch size.\n",
        "class Flatten(nn.Module):\n",
        "    def __init__(self):\n",
        "        super(Flatten, self).__init__()\n",
        "\n",
        "    def forward(self, x):\n",
        "        return x.view(x.shape[0], -1)"
      ]
    },
    {
      "cell_type": "markdown",
      "metadata": {
        "id": "x3i9R3NmpUY3"
      },
      "source": [
        "Below is the main class for a classifier parameterized by a neural network."
      ]
    },
    {
      "cell_type": "code",
      "execution_count": null,
      "metadata": {
        "id": "Vtv_pAkmOrS3"
      },
      "outputs": [],
      "source": [
        "# =========\n",
        "# GRADING:\n",
        "# 0\n",
        "# 0.5 pt if code works but it is explained badly\n",
        "# 1.0 pt if code works and it is explained well\n",
        "# =========\n",
        "# Implement a neural network (NN) classifier.\n",
        "class ClassifierNeuralNet(nn.Module):\n",
        "    def __init__(self, classnet):\n",
        "        super(ClassifierNeuralNet, self).__init__()\n",
        "        # We provide a sequential module with layers and activations\n",
        "        self.classnet = classnet\n",
        "        # The loss function (the negative log-likelihood)\n",
        "        self.nll = nn.NLLLoss(reduction=\"none\")  # it requires log-softmax as input!!\n",
        "\n",
        "    # This function classifies an image x to a class.\n",
        "    # The output must be a class label (long).\n",
        "    def classify(self, x):\n",
        "        # ------\n",
        "        # PLEASE FILL IN\n",
        "        # input: a batch of 64 images [64,64]\n",
        "        # output: a batch of 64 labels [64,1]\n",
        "        # prediction would be the index of the maximum element\n",
        "        # of a tensor (10)\n",
        "        y_pred = torch.argmax(self.classnet(x), dim = 1)\n",
        "\n",
        "        return y_pred\n",
        "\n",
        "    # This function is crucial for a module in PyTorch.\n",
        "    # In our framework, this class outputs a value of the loss function.\n",
        "    def forward(self, x, y, reduction=\"avg\"):\n",
        "        # ------\n",
        "        # PLEASE FILL IN\n",
        "        # loss would be negative log-likelihood of \n",
        "        # the prediction and actual values\n",
        "        output = self.classnet(x) # prediction\n",
        "        loss = self.nll(output,y)\n",
        "        # ------\n",
        "        if reduction == \"sum\":\n",
        "            return loss.sum()\n",
        "        else:\n",
        "            return loss.mean()"
      ]
    },
    {
      "cell_type": "markdown",
      "metadata": {
        "id": "bwaou1x-gmx3"
      },
      "source": [
        "**Question 1 (0-0.5pt):** What is the objective function for a classification task? In other words, what is nn.NLLLoss in the code above? Please write it in mathematical terms.\n",
        "\n",
        "**Answer:**\n",
        "The objective function for the classification task is Negative Log Likelihood Loss in minibatch \n",
        "\n",
        "The mathematical term:\n",
        "$${l(θ)} = {-\\sum_{i=1}^{N}(y_{i}log\\hat{y_{θ,i}}+(1-y_{i})log(1-\\hat{y_{θ,i}})} $$\n",
        "\n",
        "For one batch, the loss can either be the sum or mean of all loss points in the batch:\n",
        "\n",
        "if reduction = \"mean\":\n",
        "$$l(x,y) = \\sum_{i=1}^{K} {1 \\over \\sum_{i=1}^{K} w_{yk} }l_{k}$$\n",
        "\n",
        "if reduction = \"sum\":\n",
        "$$l(x,y) = \\sum_{i=1}^{K}l_{k} $$\n",
        "\n",
        "where K is the batch size"
      ]
    },
    {
      "cell_type": "markdown",
      "metadata": {
        "id": "kvX88kN-irAD"
      },
      "source": [
        "**Question 2 (0-0.5pt):** In the code above, it is said to use the logarithm of the softmax as the final activation function. Is it correct to use the log-softmax instead of the softmax for making predictions (i.e., picking the most probable label).\n",
        "\n",
        "**Answer:**\n",
        "\n",
        "The substitution of Log Softmax for Softmax brings a wealth of benefits to the gradient computation. The main role of both layers is computing the probability of an event and if we imagine that a probability of multiple indepedent events would be the multiplication of such events with the use of the normal Softmax. However, the log operator would transform such complicated multiplication into simpler addition operators, computing the probability with the Log Softmax facilitates the computing process and lowers the burden for the computer resources. One important thing is that the application of Log Softmax does not affect the outcomes when compared to that of Softmax, it just changes the representation of the outputs."
      ]
    },
    {
      "cell_type": "markdown",
      "metadata": {
        "id": "HVqRQduw3mgm"
      },
      "source": [
        "### 2.2 Evaluation"
      ]
    },
    {
      "cell_type": "code",
      "execution_count": null,
      "metadata": {
        "id": "4g9uUFgYP1kT"
      },
      "outputs": [],
      "source": [
        "# PLEASE DO NOT REMOVE\n",
        "def evaluation(test_loader, name=None, model_best=None, epoch=None):\n",
        "    # If available, load the best performing model\n",
        "    if model_best is None:\n",
        "        model_best = torch.load(name + \".model\")\n",
        "\n",
        "    model_best.eval()  # set the model to the evaluation mode\n",
        "    loss_test = 0.0\n",
        "    loss_error = 0.0\n",
        "    N = 0.0\n",
        "    # start evaluation\n",
        "    for indx_batch, (test_batch, test_targets) in enumerate(test_loader):\n",
        "        # loss (nll)\n",
        "        loss_test_batch = model_best.forward(test_batch, test_targets, reduction=\"sum\")\n",
        "        # tensor.item() returns a tensor of 1 element into \n",
        "        # a standard Python nhmber\n",
        "        loss_test = loss_test + loss_test_batch.item()\n",
        "        # classification error\n",
        "        y_pred = model_best.classify(test_batch)\n",
        "        e = 1.0 * (y_pred == test_targets)\n",
        "        loss_error = loss_error + (1.0 - e).sum().item()\n",
        "        # the number of examples\n",
        "        N = N + test_batch.shape[0]\n",
        "    # divide by the number of examples\n",
        "    loss_test = loss_test / N\n",
        "    loss_error = loss_error / N\n",
        "\n",
        "    # Print the performance\n",
        "    if epoch is None:\n",
        "        print(f\"-> FINAL PERFORMANCE: nll={loss_test}, ce={loss_error}\")\n",
        "    else:\n",
        "        if epoch % 10 == 0:\n",
        "            print(f\"Epoch: {epoch}, val nll={loss_test}, val ce={loss_error}\")\n",
        "\n",
        "    return loss_test, loss_error\n",
        "\n",
        "\n",
        "# An auxiliary function for plotting the performance curves\n",
        "def plot_curve(\n",
        "    name,\n",
        "    signal,\n",
        "    file_name=\"curve.pdf\",\n",
        "    xlabel=\"epochs\",\n",
        "    ylabel=\"nll\",\n",
        "    color=\"b-\",\n",
        "    test_eval=None,\n",
        "):\n",
        "    # plot the curve\n",
        "    plt.plot(\n",
        "        np.arange(len(signal)), signal, color, linewidth=\"3\", label=ylabel + \" val\"\n",
        "    )\n",
        "    # if available, add the final (test) performance\n",
        "    if test_eval is not None:\n",
        "        plt.hlines(\n",
        "            test_eval,\n",
        "            xmin=0,\n",
        "            xmax=len(signal),\n",
        "            linestyles=\"dashed\",\n",
        "            label=ylabel + \" test\",\n",
        "        )\n",
        "        plt.text(\n",
        "            len(signal),\n",
        "            test_eval,\n",
        "            \"{:.3f}\".format(test_eval),\n",
        "        )\n",
        "    # set x- and ylabels, add legend, save the figure\n",
        "    plt.xlabel(xlabel), plt.ylabel(ylabel)\n",
        "    plt.legend()\n",
        "    plt.savefig(name + file_name, bbox_inches=\"tight\")\n",
        "    plt.show()"
      ]
    },
    {
      "cell_type": "markdown",
      "metadata": {
        "id": "YzRd-TiY3puF"
      },
      "source": [
        "### 2.3 Training procedure"
      ]
    },
    {
      "cell_type": "code",
      "execution_count": null,
      "metadata": {
        "id": "CMhQWbM1QcBM"
      },
      "outputs": [],
      "source": [
        "# PLEASE DO NOT REMOVE!\n",
        "# The training procedure\n",
        "def training(\n",
        "    name, max_patience, num_epochs, model, optimizer, training_loader, val_loader\n",
        "):\n",
        "    nll_val = []\n",
        "    error_val = []\n",
        "    best_nll = 1000.0\n",
        "    patience = 0\n",
        "\n",
        "    # Main training loop\n",
        "    for e in range(num_epochs):\n",
        "        model.train()  # set the model to the training mode\n",
        "        # load batches\n",
        "        for indx_batch, (batch, targets) in enumerate(training_loader):\n",
        "            # calculate the forward pass (loss function for given images and labels)\n",
        "            loss = model.forward(batch, targets)\n",
        "            # remember we need to zero gradients! Just in case!\n",
        "            optimizer.zero_grad()\n",
        "            # calculate backward pass\n",
        "            loss.backward(retain_graph=True)\n",
        "            # run the optimizer\n",
        "            optimizer.step()\n",
        "\n",
        "        # Validation: Evaluate the model on the validation data\n",
        "        loss_e, error_e = evaluation(val_loader, model_best=model, epoch=e)\n",
        "        nll_val.append(loss_e)  # save for plotting\n",
        "        error_val.append(error_e)  # save for plotting\n",
        "\n",
        "        # Early-stopping: update the best performing model and break training if no\n",
        "        # progress is observed.\n",
        "        if e == 0:\n",
        "            torch.save(model, name + \".model\")\n",
        "            best_nll = loss_e\n",
        "        else:\n",
        "            if loss_e < best_nll:\n",
        "                torch.save(model, name + \".model\")\n",
        "                best_nll = loss_e\n",
        "                patience = 0\n",
        "            else:\n",
        "                patience = patience + 1\n",
        "\n",
        "        if patience > max_patience:\n",
        "            break\n",
        "\n",
        "    # Return nll and classification error.\n",
        "    nll_val = np.asarray(nll_val)\n",
        "    error_val = np.asarray(error_val)\n",
        "\n",
        "    return nll_val, error_val"
      ]
    },
    {
      "cell_type": "markdown",
      "metadata": {
        "id": "gHYGz3G87nuk"
      },
      "source": [
        "### 2.4 Experiments"
      ]
    },
    {
      "cell_type": "markdown",
      "metadata": {
        "id": "op-YbN-JREqw"
      },
      "source": [
        "#### Initialize dataloaders"
      ]
    },
    {
      "cell_type": "code",
      "execution_count": null,
      "metadata": {
        "id": "R_cRaP3gRET1"
      },
      "outputs": [],
      "source": [
        "# PLEASE DO NOT REMOVE\n",
        "# Initialize training, validation and test sets.\n",
        "train_data = Digits(mode=\"train\")\n",
        "val_data = Digits(mode=\"val\")\n",
        "test_data = Digits(mode=\"test\")\n",
        "\n",
        "# Initialize data loaders.\n",
        "training_loader = DataLoader(train_data, batch_size=64, shuffle=True)\n",
        "val_loader = DataLoader(val_data, batch_size=64, shuffle=False)\n",
        "test_loader = DataLoader(test_data, batch_size=64, shuffle=False)"
      ]
    },
    {
      "cell_type": "code",
      "execution_count": null,
      "metadata": {
        "id": "2Lqwm5c3oRia",
        "colab": {
          "base_uri": "https://localhost:8080/"
        },
        "outputId": "a2ec9e72-031a-4c30-c51f-26d5b056424b"
      },
      "outputs": [
        {
          "output_type": "stream",
          "name": "stdout",
          "text": [
            "How do we get our data from Digits class? \n",
            "\n",
            "Feature example: [ 0.  0.  0. 12. 13.  5.  0.  0.  0.  0.  0. 11. 16.  9.  0.  0.  0.  0.\n",
            "  3. 15. 16.  6.  0.  0.  0.  7. 15. 16. 16.  2.  0.  0.  0.  0.  1. 16.\n",
            " 16.  3.  0.  0.  0.  0.  1. 16. 16.  6.  0.  0.  0.  0.  1. 16. 16.  6.\n",
            "  0.  0.  0.  0.  0. 11. 16. 10.  0.  0.]\n",
            "Feature example shape: (64,)\n",
            "Label example: 1\n"
          ]
        }
      ],
      "source": [
        "print(\"How do we get our data from Digits class? \\n\")\n",
        "print(f\"Feature example: {train_data[1][0]}\")\n",
        "example = train_data[1][0]\n",
        "print(f\"Feature example shape: {example.shape}\")\n",
        "print(f\"Label example: {train_data[1][1]}\")"
      ]
    },
    {
      "cell_type": "code",
      "execution_count": null,
      "metadata": {
        "id": "F5OuaSTOhocZ",
        "colab": {
          "base_uri": "https://localhost:8080/"
        },
        "outputId": "1aa3be23-656c-41bb-d5aa-d8653546e397"
      },
      "outputs": [
        {
          "output_type": "stream",
          "name": "stdout",
          "text": [
            "How do we get our data from Pytorch DataLoader class? \n",
            "\n",
            "Feature batch shape: torch.Size([64, 64])\n",
            "Labels batch shape: torch.Size([64])\n",
            "\n",
            "\n",
            "What happens if we reshape a feature batch? \n",
            "\n",
            "Feature batch shape after reshape: torch.Size([64, 1, 8, 8])\n",
            "\n",
            "\n",
            "What happens if we flatten a reshaped feature batch? \n",
            "\n",
            "Feature batch shape after flatten: torch.Size([64, 64])\n"
          ]
        }
      ],
      "source": [
        "print(\"How do we get our data from Pytorch DataLoader class? \\n\")\n",
        "train_features, train_labels = next(iter(training_loader))\n",
        "print(f\"Feature batch shape: {train_features.size()}\")\n",
        "print(f\"Labels batch shape: {train_labels.size()}\")\n",
        "\n",
        "print(\"\\n\\nWhat happens if we reshape a feature batch? \\n\")\n",
        "reshape = Reshape(size=(1, 8, 8))\n",
        "train_features_reshaped = reshape(train_features)\n",
        "print(f\"Feature batch shape after reshape: {train_features_reshaped.size()}\")\n",
        "\n",
        "print(\"\\n\\nWhat happens if we flatten a reshaped feature batch? \\n\")\n",
        "flatten = Flatten()\n",
        "train_features_flattened = flatten(train_features_reshaped)\n",
        "print(f\"Feature batch shape after flatten: {train_features_flattened.size()}\")"
      ]
    },
    {
      "cell_type": "markdown",
      "metadata": {
        "id": "s3ni_8Pv3iuG"
      },
      "source": [
        "#### Initialize hyperparameters"
      ]
    },
    {
      "cell_type": "code",
      "execution_count": null,
      "metadata": {
        "id": "dnMs4gcLRLEK"
      },
      "outputs": [],
      "source": [
        "# PLEASE DO NOT REMOVE\n",
        "# Hyperparameters\n",
        "# -> data hyperparams\n",
        "D = 64  # input dimension\n",
        "\n",
        "# -> model hyperparams\n",
        "M = 256  # the number of neurons in scale (s) and translation (t) nets\n",
        "K = 10  # the number of labels\n",
        "num_kernels = 32  # the number of kernels for CNN\n",
        "bias = True\n",
        "\n",
        "# -> training hyperparams\n",
        "lr = 1e-3  # learning rate\n",
        "wd = 1e-5  # weight decay\n",
        "num_epochs = 1000  # max. number of epochs\n",
        "max_patience = 20  # an early stopping is used, if training doesn't improve for longer than 20 epochs, it is stopped"
      ]
    },
    {
      "cell_type": "markdown",
      "metadata": {
        "id": "9VDyHP173vLF"
      },
      "source": [
        "#### Running experiments"
      ]
    },
    {
      "cell_type": "markdown",
      "metadata": {
        "id": "f9T9nXcE3xF2"
      },
      "source": [
        "In the code below, you are supposed to implement architectures for MLP and CNN. For properly implementing these architectures, you can get 0.5pt for each of them."
      ]
    },
    {
      "cell_type": "code",
      "execution_count": null,
      "metadata": {
        "id": "AZH7ahwBRP9B",
        "colab": {
          "base_uri": "https://localhost:8080/",
          "height": 1000
        },
        "outputId": "e4e49468-0a32-46b5-a0a1-5b8b57630769"
      },
      "outputs": [
        {
          "output_type": "stream",
          "name": "stdout",
          "text": [
            "\n",
            "-> START classifier_mlp\n",
            "Epoch: 0, val nll=1.9298386819022042, val ce=0.7114285714285714\n",
            "Epoch: 10, val nll=1.7283062962123326, val ce=0.6428571428571429\n",
            "Epoch: 20, val nll=1.7120876203264508, val ce=0.6285714285714286\n",
            "Epoch: 30, val nll=1.7045298440115793, val ce=0.6285714285714286\n",
            "Epoch: 40, val nll=1.7091830335344587, val ce=0.6257142857142857\n",
            "Epoch: 50, val nll=1.7105377742222376, val ce=0.62\n",
            "Epoch: 60, val nll=1.7087174551827566, val ce=0.6228571428571429\n",
            "-> FINAL PERFORMANCE: nll=1.7046017913476998, ce=0.6263982102908278\n"
          ]
        },
        {
          "output_type": "display_data",
          "data": {
            "text/plain": [
              "<Figure size 640x480 with 1 Axes>"
            ],
            "image/png": "[encoded data removed]"
          },
          "metadata": {}
        },
        {
          "output_type": "display_data",
          "data": {
            "text/plain": [
              "<Figure size 640x480 with 1 Axes>"
            ],
            "image/png": "[encoded data removed]"
          },
          "metadata": {}
        },
        {
          "output_type": "stream",
          "name": "stdout",
          "text": [
            "\n",
            "-> START classifier_cnn\n",
            "Epoch: 0, val nll=1.3229141562325615, val ce=0.44\n",
            "Epoch: 10, val nll=0.767308088030134, val ce=0.31142857142857144\n",
            "Epoch: 20, val nll=0.7499615042550223, val ce=0.30857142857142855\n",
            "Epoch: 30, val nll=0.7579926300048828, val ce=0.3171428571428571\n",
            "Epoch: 40, val nll=0.745819091796875, val ce=0.3057142857142857\n",
            "Epoch: 50, val nll=0.7420398221697126, val ce=0.30857142857142855\n",
            "Epoch: 60, val nll=0.7445565032958984, val ce=0.30857142857142855\n",
            "Epoch: 70, val nll=0.7393654142107282, val ce=0.30857142857142855\n",
            "-> FINAL PERFORMANCE: nll=0.823695675638698, ce=0.3288590604026846\n"
          ]
        },
        {
          "output_type": "display_data",
          "data": {
            "text/plain": [
              "<Figure size 640x480 with 1 Axes>"
            ],
            "image/png": "[encoded data removed]"
          },
          "metadata": {}
        },
        {
          "output_type": "display_data",
          "data": {
            "text/plain": [
              "<Figure size 640x480 with 1 Axes>"
            ],
            "image/png": "[encoded data removed]"
          },
          "metadata": {}
        }
      ],
      "source": [
        "# PLEASE DO NOT REMOVE and FILL IN WHEN NECESSARY!\n",
        "# We will run two models: MLP and CNN\n",
        "names = [\"classifier_mlp\", \"classifier_cnn\"]\n",
        "\n",
        "# loop over models\n",
        "for name in names:\n",
        "    print(\"\\n-> START {}\".format(name))\n",
        "    # Create a folder (REMEMBER: You must mount your drive if you use Colab!)\n",
        "    if name == \"classifier_mlp\":\n",
        "        name = name + \"_M_\" + str(M)\n",
        "    elif name == \"classifier_cnn\":\n",
        "        name = name + \"_M_\" + str(M) + \"_kernels_\" + str(num_kernels)\n",
        "\n",
        "    # Create a folder if necessary\n",
        "    result_dir = os.path.join(results_dir, \"results\", name + \"/\")\n",
        "\n",
        "    # =========\n",
        "    # MAKE SURE THAT \"result_dir\" IS A PATH TO A LOCAL FOLDER OR A GOOGLE COLAB FOLDER (DEFINED IN CELL 3)\n",
        "    result_dir = \"./\"  # (current folder)\n",
        "    # =========\n",
        "    if not (os.path.exists(result_dir)):\n",
        "        os.mkdir(result_dir)\n",
        "\n",
        "    # MLP\n",
        "    if name[0:14] == \"classifier_mlp\":\n",
        "        # =========\n",
        "        # GRADING:\n",
        "        # 0\n",
        "        # 0.5pt if properly implemented\n",
        "        # =========\n",
        "        # ------\n",
        "        # PLEASE FILL IN:\n",
        "        classnet = nn.Sequential(nn.Linear(D,M),\n",
        "                                 nn.ReLU(),\n",
        "                                 nn.Linear(M,K),\n",
        "                                 nn.ReLU(),\n",
        "                                 nn.LogSoftmax(dim=1))\n",
        "        #\n",
        "        # You are asked here to propose your own architecture\n",
        "        # NOTE: Please remember that the output must be LogSoftmax!\n",
        "        # The architecture of the MLP:\n",
        "        # 1 Linear layer with nr of input node 64 and output node 256\n",
        "        # 1 ReLU\n",
        "        # 1 Linear layer with nr of input node 256 and output node 10\n",
        "        # 1 ReLU\n",
        "        # 1 LogSoftmax\n",
        "        # ------\n",
        "        \n",
        "\n",
        "    # CNN\n",
        "    elif name[0:14] == \"classifier_cnn\":\n",
        "        # =========\n",
        "        # GRADING:\n",
        "        # 0\n",
        "        # 0.5pt if properly implemented\n",
        "        # =========\n",
        "        # ------\n",
        "        # PLEASE FILL IN:\n",
        "        classnet = nn.Sequential(Reshape(size=(1, 8, 8)),\n",
        "                                 # Input 1x8x8 Output 32x9x9\n",
        "                                 nn.Conv2d(1,32,kernel_size=(2,2), stride=1, padding=1),\n",
        "                                 # Input 32x9x9 Output 32x9x9\n",
        "                                 nn.ReLU(),\n",
        "                                 # Input 32x9x9 Output 32x9x9\n",
        "                                 nn.Dropout(0.2),\n",
        "                                 # Input 32x9x9 Output 64x10x10\n",
        "                                 nn.Conv2d(32, 64, kernel_size=(2,2), stride=1, padding=1),\n",
        "                                 # Input 64x10x10 Ouput 64x5x5\n",
        "                                 nn.MaxPool2d(kernel_size=(2, 2),stride = 2),\n",
        "                                 # Input 64x5x5 Output 1600\n",
        "                                 Flatten(),\n",
        "                                 # Input 1600 Output 512\n",
        "                                 nn.Linear(1600,512),\n",
        "                                 # Input 512 Output 512\n",
        "                                 nn.ReLU(),\n",
        "                                 # Input 512 Output 512\n",
        "                                 nn.Dropout(0.2),\n",
        "                                 # Input 512 Output 10\n",
        "                                 nn.Linear(512,K),\n",
        "                                 # Input 10 Output 10\n",
        "                                 nn.ReLU(),\n",
        "                                 # Input 10 Output 10\n",
        "                                 nn.LogSoftmax(dim=1))\n",
        "        #\n",
        "        # You are asked here to propose your own architecture\n",
        "        # NOTE: Plese note that the images are represented as vectors, thus, you must\n",
        "        # use Reshape(size) as the first layer, and Flatten() after all convolutional\n",
        "        # layers and before linear layers.\n",
        "        # NOTE: Please remember that the output must be LogSoftmax!\n",
        "        # The architecture of the CNN\n",
        "        # 1 Reshape to size (1,8,8)\n",
        "        # 1 Conv2d with 32 output channels\n",
        "        # 1 ReLU\n",
        "        # 1 Dropout with p = 0.2\n",
        "        # 1 Conv2d with 64 output channels\n",
        "        # 1 MaxPool2d with kernel size = (2,2)\n",
        "        # 1 Flatten layer\n",
        "        # 1 Linear layer\n",
        "        # 1 1 ReLU\n",
        "        # 1 Dropout with p = 0.2\n",
        "        # 1 Linear layer \n",
        "        # 1 ReLU\n",
        "        # 1 LogSoftmax\n",
        "        # ------\n",
        "        \n",
        "\n",
        "    # Init ClassifierNN\n",
        "    model = ClassifierNeuralNet(classnet)\n",
        "\n",
        "    # Init OPTIMIZER (here we use ADAMAX)\n",
        "    optimizer = torch.optim.Adamax(\n",
        "        [p for p in model.parameters() if p.requires_grad == True],\n",
        "        lr=lr,\n",
        "        weight_decay=wd,\n",
        "    )\n",
        "\n",
        "    # Training procedure\n",
        "    nll_val, error_val = training(\n",
        "        name=result_dir + name,\n",
        "        max_patience=max_patience,\n",
        "        num_epochs=num_epochs,\n",
        "        model=model,\n",
        "        optimizer=optimizer,\n",
        "        training_loader=training_loader,\n",
        "        val_loader=val_loader,\n",
        "    )\n",
        "\n",
        "    # The final evaluation (on the test set)\n",
        "    test_loss, test_error = evaluation(name=result_dir + name, test_loader=test_loader)\n",
        "    # write the results to a file\n",
        "    f = open(result_dir + name + \"_test_loss.txt\", \"w\")\n",
        "    f.write(\"NLL: \" + str(test_loss) + \"\\nCE: \" + str(test_error))\n",
        "    f.close()\n",
        "    # create curves\n",
        "    plot_curve(\n",
        "        result_dir + name,\n",
        "        nll_val,\n",
        "        file_name=\"_nll_val_curve.pdf\",\n",
        "        ylabel=\"nll\",\n",
        "        test_eval=test_loss,\n",
        "    )\n",
        "    plot_curve(\n",
        "        result_dir + name,\n",
        "        error_val,\n",
        "        file_name=\"_ca_val_curve.pdf\",\n",
        "        ylabel=\"ce\",\n",
        "        color=\"r-\",\n",
        "        test_eval=test_error,\n",
        "    )"
      ]
    },
    {
      "cell_type": "markdown",
      "metadata": {
        "id": "oFX-DzH9ftPg"
      },
      "source": [
        "## 2.5 Analysis"
      ]
    },
    {
      "cell_type": "markdown",
      "metadata": {
        "id": "2-TFtGdZfz3a"
      },
      "source": [
        "**Question 3 (0-0.5pt)**: Please compare the convergence of MLP and CNN in terms of the loss function and the classification error.\n",
        "\n",
        "**Answer**: Based on the results, CNN provided a faster convergence then MLP in both negative log likelikhood loss (nllloss) and classification error (ce). Specifically, CNN needed only within 10 epochs to explore the optimum while MLP ran over 40 epochs to reach the best solution. Additionally, CNN provide over 50% improvement in nllloss and ce over MLP.\n",
        "\n",
        "The results of CNN:\n",
        "\n",
        "![cnn](https://drive.google.com/uc?export=view&id=1F9MOkLtWOCI5jpGcmOAkrkbJ2vD8qNFm)\n",
        "\n",
        "\n",
        "The results of MLP:\n",
        "![mlp](https://drive.google.com/uc?export=view&id=1FotZ7nPnDF557zKsDbHWmZjBHSL8Eg7B)\n"
      ]
    },
    {
      "cell_type": "markdown",
      "metadata": {
        "id": "0f2P57ZmlwXz"
      },
      "source": [
        "**Question 4 (0-0.5pt)**: In general, for a properly picked architectures, a CNN should work better than an MLP. Did you notice that? Why (in general) CNNs are better suited to images than MLPs?\n",
        "\n",
        "**Answer**: Definitely, CNN provides a superior performance to MLP in the complicated image processing task. The feasible reason is possibly when the kernel traverses the image, depending on the weights set on the convolutional matrix, the feature map would extract the primary components inside the image, which is not included in the MLP. Besides, the more channels the output has, the more meaningful features are extracted. Thus, CNN processes the image in literally a spatial mean and provide a shorter and better extracted representation for the image when being flattedned. "
      ]
    },
    {
      "cell_type": "markdown",
      "metadata": {
        "id": "1QJ_mRdT7Ais"
      },
      "source": [
        "## 3 Application to Street House View Numbers (SVHN) (6pt)"
      ]
    },
    {
      "cell_type": "markdown",
      "metadata": {
        "id": "YHhUUaYL7GEx"
      },
      "source": [
        "Please repeat (some) of the code in the previous section and apply a bigger convolutional neural network (CNN) to the following dataset:\n",
        "\n",
        "http://ufldl.stanford.edu/housenumbers/\n",
        "\n",
        "Please follow the following steps:\n",
        "1. (1pt) Create appropriate Dataset class. Please remember to use the original training data and test data, and also to create a validation set from the traning data (at least 10% of the training examples). **Do not use extra examples!**\n",
        "2. (1pt) Implement an architecture that will give at most 0.1 classification error. For instance, see this paper as a reference: https://arxiv.org/pdf/1204.3968.pdf#:~:text=The%20SVHN%20classification%20dataset%20%5B8,set%20of%20more%20difficult%20samples\n",
        "3. (1pt) Think of an extra component that could improve the performance (e.g., a regularization, specific activation functions).\n",
        "4. (1pt) Provide a good explanation of the applied architecture and a description of all components.\n",
        "5. (2pt) Analyze the results.\n",
        "\n",
        "**Please be very precise, comment your code and provide a comprehensive and clear analysis.**"
      ]
    },
    {
      "cell_type": "markdown",
      "source": [
        "# Import Library"
      ],
      "metadata": {
        "id": "_6hnsMfo4ONJ"
      }
    },
    {
      "cell_type": "code",
      "source": [
        "# Import library\n",
        "import scipy  \n",
        "from torchvision.transforms import ToTensor\n",
        "from torch.utils.data import random_split\n",
        "from torchvision.utils import make_grid\n",
        "\n",
        "\n",
        "# Import Dataset\n",
        "from torchvision.datasets import SVHN"
      ],
      "metadata": {
        "id": "c4xySwBtnn7p"
      },
      "execution_count": null,
      "outputs": []
    },
    {
      "cell_type": "markdown",
      "source": [
        "# Create Dataset Class (Step1)"
      ],
      "metadata": {
        "id": "NXcC1Gj23ADA"
      }
    },
    {
      "cell_type": "code",
      "source": [
        "# This is a class for splitting the Street View House Number dataset of (32px x 32px) digits.\n",
        "# Version: Cropped images\n",
        "class StreetView(Dataset):\n",
        "\n",
        "    def __init__(self, mode=\"train\", transforms=None):\n",
        "\n",
        "        # import \"\"\"Pytorch SVHN dataset\"\"\" \n",
        "        svhn = SVHN(root = results_dir, download = True, split = 'train', transform=ToTensor())\n",
        "\n",
        "        # load digits would contain some parameter\n",
        "        if mode == \"train\":\n",
        "            # for training\n",
        "            # take first 60000 images of the train set\n",
        "            self.data = svhn.data[:60000].astype(np.float32)\n",
        "            self.targets = svhn.labels[:60000]\n",
        "        elif mode == \"val\":\n",
        "            # for validation\n",
        "            # take the rest images of the train set\n",
        "            self.data = svhn.data[60000:].astype(np.float32)\n",
        "            self.targets = svhn.labels[60000:]\n",
        "        else:\n",
        "            # for testing\n",
        "            # take the whole test set\n",
        "            test_set = SVHN(root = results_dir, download = True, split = 'test', transform=ToTensor())\n",
        "            self.data = test_set.data.astype(np.float32)\n",
        "            self.targets = test_set.labels\n",
        "\n",
        "        self.transforms = transforms\n",
        "\n",
        "    def __len__(self):\n",
        "        return len(self.data)\n",
        "\n",
        "    def __getitem__(self, idx):\n",
        "        sample_x = self.data[idx]\n",
        "        sample_y = self.targets[idx]\n",
        "        if self.transforms:\n",
        "            sample_x = self.transforms(sample_x)\n",
        "        return (sample_x, sample_y)"
      ],
      "metadata": {
        "id": "luwG9rQZBHdt"
      },
      "execution_count": null,
      "outputs": []
    },
    {
      "cell_type": "code",
      "source": [
        "# Initialize training, validation and test sets.\n",
        "train_data = StreetView(mode=\"train\")\n",
        "val_data = StreetView(mode=\"val\")\n",
        "test_data = StreetView(mode=\"test\")\n",
        "\n",
        "# Initialize data loaders.\n",
        "train_loader = DataLoader(train_data, batch_size=64, shuffle=True)\n",
        "val_loader = DataLoader(val_data, batch_size=64, shuffle=True)\n",
        "test_loader = DataLoader(test_data, batch_size=64, shuffle=False)\n"
      ],
      "metadata": {
        "colab": {
          "base_uri": "https://localhost:8080/"
        },
        "id": "sR5rdgPMs2jX",
        "outputId": "830c850c-1989-4c09-b1a4-b7add219df5c"
      },
      "execution_count": null,
      "outputs": [
        {
          "output_type": "stream",
          "name": "stdout",
          "text": [
            "Using downloaded and verified file: /gdrive/MyDrive/Computational Intelligence/train_32x32.mat\n",
            "Using downloaded and verified file: /gdrive/MyDrive/Computational Intelligence/train_32x32.mat\n",
            "Using downloaded and verified file: /gdrive/MyDrive/Computational Intelligence/train_32x32.mat\n",
            "Using downloaded and verified file: /gdrive/MyDrive/Computational Intelligence/test_32x32.mat\n"
          ]
        }
      ]
    },
    {
      "cell_type": "markdown",
      "source": [
        "**Usage of CUDA**\n",
        "\n",
        "Due to the high dimensionality and the large volume of images in the dataset, I had to switch all data and models to the CUDA to optimize the training time."
      ],
      "metadata": {
        "id": "nP4Um7a25D7S"
      }
    },
    {
      "cell_type": "code",
      "source": [
        "# The function would prioritize using CUDA\n",
        "# if it is available\n",
        "# otherwise, the model is normally trained with CPU\n",
        "def get_default_device():\n",
        "    \"\"\"Pick GPU if available, else CPU\"\"\"\n",
        "    if torch.cuda.is_available():\n",
        "        return torch.device('cuda')\n",
        "    else:\n",
        "        return torch.device('cpu')\n",
        "\n",
        "\n",
        "# The function would move all the data structure or model\n",
        "# under the platform which is processed by the given device\n",
        "def to_device(data, device):\n",
        "    \"\"\"Move tensor(s) to chosen device\"\"\"\n",
        "    if isinstance(data, (list,tuple)):\n",
        "        return [to_device(x, device) for x in data]\n",
        "    return data.to(device, non_blocking=True)\n",
        "\n",
        "# The new DataLoader \n",
        "# which tranforms the normal DataLoader into the loader using the given device\n",
        "class DeviceDataLoader():\n",
        "    \"\"\"Wrap a dataloader to move data to a device\"\"\"\n",
        "    def __init__(self, dl, device):\n",
        "        self.dl = dl\n",
        "        self.device = device\n",
        "        \n",
        "    def __iter__(self):\n",
        "        \"\"\"Yield a batch of data after moving it to device\"\"\"\n",
        "        for b in self.dl: \n",
        "            yield to_device(b, self.device)\n",
        "\n",
        "    def __len__(self):\n",
        "        \"\"\"Number of batches\"\"\"\n",
        "        return len(self.dl)\n",
        "\n",
        "# get device\n",
        "device = get_default_device()\n",
        "\n",
        "# change DataLoader type\n",
        "train_loader = DeviceDataLoader(train_loader, device)\n",
        "val_loader = DeviceDataLoader(val_loader, device)\n",
        "test_loader = DeviceDataLoader(test_loader, device)"
      ],
      "metadata": {
        "id": "zlYXirjl3K-Z"
      },
      "execution_count": null,
      "outputs": []
    },
    {
      "cell_type": "code",
      "source": [
        "print(\"How do we get our data from Digits class? \\n\")\n",
        "print(f\"Feature example: {train_data[1]}\")\n",
        "example = train_data[1][0]\n",
        "print(f\"Feature example shape: {example.shape}\")\n",
        "print(f\"Label example: {train_data[1][1]}\")"
      ],
      "metadata": {
        "colab": {
          "base_uri": "https://localhost:8080/"
        },
        "id": "vDauQqxP6uVZ",
        "outputId": "cfd160aa-5b3f-4f90-e416-fd6d0aafbdc3"
      },
      "execution_count": null,
      "outputs": [
        {
          "output_type": "stream",
          "name": "stdout",
          "text": [
            "How do we get our data from Digits class? \n",
            "\n",
            "Feature example: (array([[[ 84.,  86.,  77., ...,  90.,  88.,  88.],\n",
            "        [ 85.,  83.,  74., ...,  89.,  88.,  88.],\n",
            "        [ 83.,  78.,  61., ...,  90.,  88.,  85.],\n",
            "        ...,\n",
            "        [100.,  98.,  95., ..., 104., 102., 100.],\n",
            "        [103., 106., 103., ..., 103., 103., 105.],\n",
            "        [103., 103., 104., ..., 113., 104., 103.]],\n",
            "\n",
            "       [[ 76.,  73.,  78., ...,  78.,  77.,  78.],\n",
            "        [ 77.,  73.,  69., ...,  82.,  79.,  81.],\n",
            "        [ 76.,  77.,  50., ...,  85.,  83.,  82.],\n",
            "        ...,\n",
            "        [ 98.,  94.,  93., ..., 104., 102., 101.],\n",
            "        [104., 104., 103., ..., 104., 103.,  99.],\n",
            "        [106., 105., 106., ..., 103., 104.,  98.]],\n",
            "\n",
            "       [[ 59.,  66.,  56., ...,  69.,  67.,  66.],\n",
            "        [ 61.,  64.,  59., ...,  64.,  70.,  67.],\n",
            "        [ 60.,  58.,  54., ...,  63.,  66.,  70.],\n",
            "        ...,\n",
            "        [ 72.,  76.,  73., ...,  86.,  87.,  78.],\n",
            "        [ 79.,  79.,  87., ...,  86.,  87.,  81.],\n",
            "        [ 82.,  87.,  91., ...,  88.,  88.,  80.]]], dtype=float32), 9)\n",
            "Feature example shape: (3, 32, 32)\n",
            "Label example: 9\n"
          ]
        }
      ]
    },
    {
      "cell_type": "code",
      "source": [
        "print(\"How do we get our data from Pytorch DataLoader class? \\n\")\n",
        "train_features, train_labels = next(iter(train_loader))\n",
        "print(f\"Feature batch shape: {train_features.size()}\")\n",
        "print(f\"Labels batch shape: {train_labels.size()}\")\n"
      ],
      "metadata": {
        "colab": {
          "base_uri": "https://localhost:8080/"
        },
        "id": "irAALo1k7nC1",
        "outputId": "ab63c1f5-27cf-471d-f552-45c770edda98"
      },
      "execution_count": null,
      "outputs": [
        {
          "output_type": "stream",
          "name": "stdout",
          "text": [
            "How do we get our data from Pytorch DataLoader class? \n",
            "\n",
            "Feature batch shape: torch.Size([64, 3, 32, 32])\n",
            "Labels batch shape: torch.Size([64])\n"
          ]
        }
      ]
    },
    {
      "cell_type": "markdown",
      "source": [
        "**Note**:\n",
        "\n",
        "The input of the dataset is already under the form of an image (3,32,32). It means it has 3 channels for 3 RGB colors and for each channel, it would contain 32x32 pixels. Thus, the model does not need to reshape the input into images."
      ],
      "metadata": {
        "id": "qs5rQ97o6sau"
      }
    },
    {
      "cell_type": "markdown",
      "source": [
        "\n",
        "# Initialize Model (Step 2)\n",
        "\n",
        "---\n",
        "The architecture of the 2 phase model:\n",
        "\n",
        "One 2D Convolutional layer\\\n",
        "One 2D Average Pooling layer\\\n",
        "One 2D Convolutional layer\\\n",
        "One 2D Avergae Pooling layeer\\\n",
        "One Flatten layer\\\n",
        "One Linear layer\\\n",
        "One ReLU activation function\\\n",
        "One Dropout\\\n",
        "One Linear layer\\\n",
        "One ReLU activation function\\\n",
        "One Linear layer\\\n",
        "One ReLU activation function\\\n",
        "One Log Softmax\n",
        "\n",
        "---\n",
        "\n",
        "\n"
      ],
      "metadata": {
        "id": "Oii7a6Of3Z2I"
      }
    },
    {
      "cell_type": "code",
      "source": [
        "# PLEASE DO NOT REMOVE and FILL IN WHEN NECESSARY!\n",
        "# We will run one models: CNN\n",
        "names = [\"classifier_cnn\"]\n",
        "\n",
        "# loop over models\n",
        "for name in names:\n",
        "    print(\"\\n-> START {}\".format(name))\n",
        "    # Create a folder (REMEMBER: You must mount your drive if you use Colab!)\n",
        "    if name == \"classifier_mlp\":\n",
        "        name = name + \"_M_\" + str(M)\n",
        "    elif name == \"classifier_cnn\":\n",
        "        name = name + \"_M_\" + str(M) + \"_kernels_\" + str(num_kernels)\n",
        "\n",
        "    # Create a folder if necessary\n",
        "    result_dir = os.path.join(results_dir, \"results\", name + \"/\")\n",
        "\n",
        "    # =========\n",
        "    # MAKE SURE THAT \"result_dir\" IS A PATH TO A LOCAL FOLDER OR A GOOGLE COLAB FOLDER (DEFINED IN CELL 3)\n",
        "    result_dir = \"./\"  # (current folder)\n",
        "    # =========\n",
        "    if not (os.path.exists(result_dir)):\n",
        "        os.mkdir(result_dir)\n",
        "\n",
        "    # MLP\n",
        "    if name[0:14] == \"classifier_mlp\":\n",
        "        # =========\n",
        "        # GRADING:\n",
        "        # 0\n",
        "        # 0.5pt if properly implemented\n",
        "        # =========\n",
        "        # ------\n",
        "        # PLEASE FILL IN:\n",
        "        classnet = nn.Sequential(nn.Flatten(),\n",
        "                                 nn.Linear(3072,512),\n",
        "                                 nn.ReLU(),\n",
        "                                 nn.Linear(512,1024),\n",
        "                                 nn.ReLU(),\n",
        "                                 nn.Linear(1024,2048),\n",
        "                                 nn.ReLU(),\n",
        "                                 nn.Linear(2048,10),\n",
        "                                 nn.LogSoftmax(dim=1))\n",
        "        #\n",
        "        # You are asked here to propose your own architecture\n",
        "        # NOTE: Please remember that the output must be LogSoftmax!\n",
        "        # ------\n",
        "        \n",
        "\n",
        "    # CNN\n",
        "    elif name[0:14] == \"classifier_cnn\":\n",
        "        # =========\n",
        "        # GRADING:\n",
        "        # 0\n",
        "        # 0.5pt if properly implemented\n",
        "        # =========\n",
        "        # ------\n",
        "        classnet = nn.Sequential(nn.Conv2d(3,64,kernel_size=(2,2), stride=2),\n",
        "                                 \n",
        "                                 nn.AvgPool2d(kernel_size=(2,2), stride=1),\n",
        "                                 \n",
        "                                 nn.Conv2d(64, 128, kernel_size=(2,2), stride=2),\n",
        "                                 \n",
        "                                 nn.AvgPool2d(kernel_size=(2,2),stride = 1),\n",
        "                                \n",
        "                                 nn.Flatten(),\n",
        "                                 \n",
        "                                 nn.Linear(4608,512),\n",
        "                                 \n",
        "                                 nn.ReLU(),\n",
        "                                 \n",
        "                                 nn.Dropout(0.2),\n",
        "                                 \n",
        "                                 nn.Linear(512,1024),\n",
        "                                 \n",
        "                                 nn.ReLU(),\n",
        "\n",
        "                                 nn.Linear(1024,K),\n",
        "\n",
        "                                 nn.ReLU(),\n",
        "                                 \n",
        "                                 nn.LogSoftmax(dim=1))\n",
        "        #\n",
        "        # You are asked here to propose your own architecture\n",
        "        # NOTE: Plese note that the images are represented as vectors, thus, you must\n",
        "        # use Reshape(size) as the first layer, and Flatten() after all convolutional\n",
        "        # layers and before linear layers.\n",
        "        # NOTE: Please remember that the output must be LogSoftmax!\n",
        "        # ------\n",
        "        \n",
        "\n",
        "    # Init ClassifierNN\n",
        "    model = ClassifierNeuralNet(classnet)\n",
        "    to_device(model, device)\n",
        "\n",
        "    # Init OPTIMIZER (here we use ADAMAX)\n",
        "    optimizer = torch.optim.Adamax(\n",
        "        [p for p in model.parameters() if p.requires_grad == True],\n",
        "        lr=lr,\n",
        "        weight_decay=wd,\n",
        "    )\n",
        "\n",
        "    # Training procedure\n",
        "    nll_val, error_val = training(\n",
        "        name=result_dir + name,\n",
        "        max_patience=max_patience,\n",
        "        num_epochs=num_epochs,\n",
        "        model=model,\n",
        "        optimizer=optimizer,\n",
        "        training_loader=train_loader,\n",
        "        val_loader=val_loader,\n",
        "    )\n",
        "\n",
        "    # The final evaluation (on the test set)\n",
        "    test_loss, test_error = evaluation(name=result_dir + name, test_loader=test_loader)\n",
        "    # write the results to a file\n",
        "    f = open(result_dir + name + \"_test_loss.txt\", \"w\")\n",
        "    f.write(\"NLL: \" + str(test_loss) + \"\\nCE: \" + str(test_error))\n",
        "    f.close()\n",
        "    # create curves\n",
        "    plot_curve(\n",
        "        result_dir + name,\n",
        "        nll_val,\n",
        "        file_name=\"_nll_val_curve.pdf\",\n",
        "        ylabel=\"nll\",\n",
        "        test_eval=test_loss,\n",
        "    )\n",
        "    plot_curve(\n",
        "        result_dir + name,\n",
        "        error_val,\n",
        "        file_name=\"_ca_val_curve.pdf\",\n",
        "        ylabel=\"ce\",\n",
        "        color=\"r-\",\n",
        "        test_eval=test_error,\n",
        "    )"
      ],
      "metadata": {
        "colab": {
          "base_uri": "https://localhost:8080/",
          "height": 1000
        },
        "id": "HJydyIVsDWEZ",
        "outputId": "c50fb98d-836d-4a21-ae60-d18e862d19a8"
      },
      "execution_count": null,
      "outputs": [
        {
          "output_type": "stream",
          "name": "stdout",
          "text": [
            "\n",
            "-> START classifier_cnn\n",
            "Epoch: 0, val nll=2.302585125005451, val ce=0.9337708380478238\n",
            "Epoch: 10, val nll=2.302585125005451, val ce=0.9337708380478238\n",
            "Epoch: 20, val nll=2.302585125005451, val ce=0.9337708380478238\n",
            "Epoch: 30, val nll=1.7075435602171276, val ce=0.6336275175379045\n",
            "Epoch: 40, val nll=1.3299319073113864, val ce=0.45440144829146867\n",
            "Epoch: 50, val nll=0.8563217483351311, val ce=0.2299162706494682\n",
            "Epoch: 60, val nll=0.7877921365348158, val ce=0.21490533303160594\n",
            "Epoch: 70, val nll=0.8924352214681155, val ce=0.21716828845138417\n",
            "-> FINAL PERFORMANCE: nll=0.8773744279208473, ce=0.23659342347879533\n"
          ]
        },
        {
          "output_type": "display_data",
          "data": {
            "text/plain": [
              "<Figure size 640x480 with 1 Axes>"
            ],
            "image/png": "[encoded data removed]"
          },
          "metadata": {}
        },
        {
          "output_type": "display_data",
          "data": {
            "text/plain": [
              "<Figure size 640x480 with 1 Axes>"
            ],
            "image/png": "[encoded data removed]"
          },
          "metadata": {}
        }
      ]
    },
    {
      "cell_type": "markdown",
      "source": [
        "# Additional Components (Step 3)\n",
        "\n",
        "Beside the significant Convolutional layer, we also add a **Dropout layer** in the feature extraction phase. The setting of the layer is p = 0.2. It means that for each time the kernel traverse the image, each weight in the convolutional matrix would be dropped out randomly with the probability of 20%. Since the dataset of 32x32 images is so far complicated if we take all pixels under consideration and it costs an expensive price for the GPU. Thus, the application of Dropout would simpler the computation at some extent and reduce overfitiing or generalise the model in the broader range."
      ],
      "metadata": {
        "id": "zYkmqZOhEwX5"
      }
    },
    {
      "cell_type": "markdown",
      "source": [
        "# Explanation (Step 4)\n",
        "First, the architecture comprise a Convolution layer with the number of input channels is 3, number of output channels is 64, kernel size is (2,2), and the stride step is 2. Therefore, the outcomes would contain 64 new features. Following that, an average pooling layer is applied to take the average value inside a neighbour of a square of 4 pixels (kernel size = (2,2)). Second, another Convolution layer is arranged with the aim to extract more feature inside the image. The layer accepts 64 channels and releases 128 channels with the same setting for kernel size and stride step as the first convolutional layer. Repetitively, a similar average pooling is included. \n",
        "\n",
        "After the feature extraction, we would flatten the image into a single tensor for the classification task. The prevailing 1D tensor would comprise of 4608 elements and the first hidden layer would compress them into 512 nodes. Then a ReLU non-linear activation function is applied with setting as deafult. Besides, we also drop some weights of the model to lower the cost of computation. The probability of a weight to being dropped is p = 0.2. Next, 2 set of hidden layer followed by a ReLU activation function are established, which would return a tensor of 10 elements, which match the number of classes in the dataset. Definitely, the outcome would come over the Log SoftMax to be backpropagated by the Negative Log likelihood loss. The dimension to compute the log probabilities is 1 because the input of the model is a full batch of 54 images and the first dimension is 64 (size of batch, not size of image).\n",
        "\n"
      ],
      "metadata": {
        "id": "DU3P9TeN9pkH"
      }
    },
    {
      "cell_type": "markdown",
      "source": [
        "# Analysis (Step 5)\n",
        "In overall, the model is impossible to reach at most 0.1 ce as expectation but the outome is still acceptable with ce in test set 0.237. Due to the complication of images (subject, background, noice), it takes much many epochs to acquire the optimal solution (more than 50 epochs). Another point is that within the first 20 epochs, it is no any improvement, it means the model did learn nothing from the dataset. Thus, it created a waste in computational usage in training. Futhermore, the negative log likelihood loss showed an impressive figure, which is 0.8077 in the test set, which is far improved from the first task. \n",
        "\n",
        "However, the preprocessing for the images is not optimal, it creates a inconsistency between some images whose objects have high value and background has low value and other images having the inverse content. Consequently, the application of min or max pooling is not suitable in that sense. In the future, we shoud apply the filter that can recognition the objects out of the background and set them as the same setiting. Consequently, we can decrease the irreducible error for the classification.\n",
        "\n",
        "The results:\\\n",
        "![shvn](https://drive.google.com/uc?export=view&id=17JUNwiZ1wS_F697RJ_4FvTIgsP4tirln)"
      ],
      "metadata": {
        "id": "1jdVzq7a9zGE"
      }
    }
  ],
  "metadata": {
    "colab": {
      "provenance": [],
      "gpuType": "T4"
    },
    "kernelspec": {
      "display_name": "Python 3 (ipykernel)",
      "language": "python",
      "name": "python3"
    },
    "language_info": {
      "codemirror_mode": {
        "name": "ipython",
        "version": 3
      },
      "file_extension": ".py",
      "mimetype": "text/x-python",
      "name": "python",
      "nbconvert_exporter": "python",
      "pygments_lexer": "ipython3",
      "version": "3.10.10"
    },
    "accelerator": "GPU",
    "gpuClass": "standard"
  },
  "nbformat": 4,
  "nbformat_minor": 0
}