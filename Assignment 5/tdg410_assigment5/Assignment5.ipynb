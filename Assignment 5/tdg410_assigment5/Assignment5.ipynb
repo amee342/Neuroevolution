{
  "nbformat": 4,
  "nbformat_minor": 0,
  "metadata": {
    "colab": {
      "provenance": [],
      "gpuType": "T4"
    },
    "kernelspec": {
      "name": "python3",
      "display_name": "Python 3"
    },
    "language_info": {
      "name": "python"
    },
    "accelerator": "GPU",
    "gpuClass": "standard"
  },
  "cells": [
    {
      "cell_type": "markdown",
      "source": [
        "# Import Library"
      ],
      "metadata": {
        "id": "zMtcE9Jx4uLr"
      }
    },
    {
      "cell_type": "code",
      "source": [
        "import copy\n",
        "import pickle\n",
        "import os\n",
        "\n",
        "\n",
        "import matplotlib.pyplot as plt\n",
        "import numpy as np\n",
        "from numpy import random\n",
        "from scipy.integrate import solve_ivp\n",
        "import torch\n",
        "import torch.nn as nn\n",
        "import torch.nn.functional as F\n",
        "from sklearn import datasets\n",
        "from sklearn.datasets import load_digits\n",
        "from torch.utils.data import random_split\n",
        "from torch.utils.data import DataLoader, Dataset\n",
        "from torchvision.transforms import ToTensor\n",
        "from torchvision.datasets import FashionMNIST\n",
        "\n",
        "\n",
        "\n",
        "EPS = 1.0e-7"
      ],
      "metadata": {
        "id": "vjLuf0gu4t8u"
      },
      "execution_count": 1,
      "outputs": []
    },
    {
      "cell_type": "markdown",
      "source": [
        "# Import Dataset"
      ],
      "metadata": {
        "id": "6X30R7uX6YSr"
      }
    },
    {
      "cell_type": "code",
      "source": [
        "# pull drive folder \n",
        "from google.colab import drive\n",
        "drive.mount(\"/content/gdrive\")"
      ],
      "metadata": {
        "colab": {
          "base_uri": "https://localhost:8080/"
        },
        "id": "mYSiW03H8FOQ",
        "outputId": "bc961521-0ede-4a39-8f06-8ac6a1852543"
      },
      "execution_count": 2,
      "outputs": [
        {
          "output_type": "stream",
          "name": "stdout",
          "text": [
            "Mounted at /content/gdrive\n"
          ]
        }
      ]
    },
    {
      "cell_type": "code",
      "source": [
        "# save directory\n",
        "results_dir = \"/content/gdrive/MyDrive/Computational_Intelligence/\"\n"
      ],
      "metadata": {
        "id": "A2neh_qX75Om"
      },
      "execution_count": 3,
      "outputs": []
    },
    {
      "cell_type": "markdown",
      "source": [
        "Dataset\n",
        "\n",
        "The Dataset contains 2 sets: train set (60000 points) and test set (10000 points)\n",
        "\n",
        "I would split the train set into 2 subsets: training(50000) and validation(10000)"
      ],
      "metadata": {
        "id": "ZlbyIY_DLvzu"
      }
    },
    {
      "cell_type": "code",
      "source": [
        "class Digits(Dataset):\n",
        "    \"\"\"Scikit-Learn Digits dataset.\"\"\"\n",
        "\n",
        "    def __init__(self, mode=\"train\", transforms=None):\n",
        "        digits = load_digits() # import dataset\n",
        "        # load digits would contain some parameter\n",
        "        # data (1797,64)\n",
        "        # targets (1797,)\n",
        "        if mode == \"train\":\n",
        "            # 55% for training\n",
        "            self.data = digits.data[:1000].astype(np.float32)\n",
        "            self.data = np.reshape(self.data,(self.data.shape[0],1,8,8))\n",
        "            self.targets = digits.target[:1000]\n",
        "        elif mode == \"val\":\n",
        "            # 20% (350 points) for validation\n",
        "            self.data = digits.data[1000:1350].astype(np.float32)\n",
        "            self.data = np.reshape(self.data,(self.data.shape[0],1,8,8))\n",
        "            self.targets = digits.target[1000:1350]\n",
        "        else:\n",
        "            # rest for testing\n",
        "            self.data = digits.data[1350:].astype(np.float32)\n",
        "            self.data = np.reshape(self.data,(self.data.shape[0],1,8,8))\n",
        "            self.targets = digits.target[1350:]\n",
        "\n",
        "        self.transforms = transforms\n",
        "\n",
        "    def __len__(self):\n",
        "        return len(self.data)\n",
        "\n",
        "    def __getitem__(self, idx):\n",
        "        sample_x = self.data[idx]\n",
        "        sample_y = self.targets[idx]\n",
        "        if self.transforms:\n",
        "            sample_x = self.transforms(sample_x)\n",
        "        return (sample_x, sample_y)"
      ],
      "metadata": {
        "id": "kDLl6wadDkQF"
      },
      "execution_count": 4,
      "outputs": []
    },
    {
      "cell_type": "code",
      "source": [
        "# Initialize training, validation and test sets.\n",
        "train_data = Digits(mode=\"train\")\n",
        "val_data = Digits(mode=\"val\")\n",
        "test_data = Digits(mode=\"test\")\n",
        "\n",
        "# Initialize data loaders.\n",
        "train_loader = DataLoader(train_data, batch_size=64, shuffle=True)\n",
        "val_loader = DataLoader(val_data, batch_size=64, shuffle=False)\n",
        "test_loader = DataLoader(test_data, batch_size=64, shuffle=False)\n"
      ],
      "metadata": {
        "id": "OHBKh6GmOk6h"
      },
      "execution_count": 5,
      "outputs": []
    },
    {
      "cell_type": "markdown",
      "source": [
        "**Usage of CUDA**\n",
        "\n",
        "Due to the beneficial usage of CUDA in training time, the project would switch to use the resource in case it is available"
      ],
      "metadata": {
        "id": "P2AxDtRtkEkc"
      }
    },
    {
      "cell_type": "code",
      "source": [
        "# The function would prioritize using CUDA\n",
        "# if it is available\n",
        "# otherwise, the model is normally trained with CPU\n",
        "def get_default_device():\n",
        "    \"\"\"Pick GPU if available, else CPU\"\"\"\n",
        "    if torch.cuda.is_available():\n",
        "        return torch.device('cuda')\n",
        "    else:\n",
        "        return torch.device('cpu')\n",
        "\n",
        "\n",
        "# The function would move all the data structure or model\n",
        "# under the platform which is processed by the given device\n",
        "def to_device(data, device):\n",
        "    \"\"\"Move tensor(s) to chosen device\"\"\"\n",
        "    if isinstance(data, (list,tuple)):\n",
        "        return [to_device(x, device) for x in data]\n",
        "    # transform for model\n",
        "    return data.to(device, non_blocking=True)\n",
        "\n",
        "# The new DataLoader \n",
        "# which tranforms the normal DataLoader into the loader using the given device\n",
        "class DeviceDataLoader():\n",
        "    \"\"\"Wrap a dataloader to move data to a device\"\"\"\n",
        "    def __init__(self, dl, device):\n",
        "        self.dl = dl\n",
        "        self.device = device\n",
        "        \n",
        "    def __iter__(self):\n",
        "        \"\"\"Yield a batch of data after moving it to device\"\"\"\n",
        "        for b in self.dl: \n",
        "            yield to_device(b, self.device)\n",
        "\n",
        "    def __len__(self):\n",
        "        \"\"\"Number of batches\"\"\"\n",
        "        return len(self.dl)\n",
        "\n",
        "# get device\n",
        "device = get_default_device()\n",
        "\n",
        "# change DataLoader type\n",
        "train_loader = DeviceDataLoader(train_loader, device)\n",
        "val_loader = DeviceDataLoader(val_loader, device)\n",
        "test_loader = DeviceDataLoader(test_loader, device)"
      ],
      "metadata": {
        "id": "6_1kdXs0kD2y"
      },
      "execution_count": 6,
      "outputs": []
    },
    {
      "cell_type": "markdown",
      "source": [
        "# Visualization"
      ],
      "metadata": {
        "id": "SdHSTl7A-6J5"
      }
    },
    {
      "cell_type": "code",
      "source": [
        "digits = load_digits()\n",
        "x = digits.data[:16].astype(np.float32)\n",
        "\n",
        "fig_data, axs = plt.subplots(4, 4, figsize=(4, 4))\n",
        "fig_data.tight_layout()\n",
        "\n",
        "for i in range(4):\n",
        "    for j in range(4):\n",
        "        # reshape image from a vector \n",
        "        # to a 8x8 tensor\n",
        "        img = np.reshape(x[4 * i + j], (8, 8))\n",
        "        axs[i, j].imshow(img, cmap=\"gray\")\n",
        "        axs[i, j].axis(\"off\")"
      ],
      "metadata": {
        "colab": {
          "base_uri": "https://localhost:8080/",
          "height": 370
        },
        "id": "AGUAY55Y8yuV",
        "outputId": "b224d8bf-543f-4b09-d6ba-66c18c4244b0"
      },
      "execution_count": 7,
      "outputs": [
        {
          "output_type": "display_data",
          "data": {
            "text/plain": [
              "<Figure size 400x400 with 16 Axes>"
            ],
            "image/png": "[encoded data removed]"
          },
          "metadata": {}
        }
      ]
    },
    {
      "cell_type": "markdown",
      "source": [
        "# Model representation\n",
        "A model vector would contain 6 elements representing the type of layers of the Convolutional Neural Network. The first element would present the type of Convolution layer is used in the model. The second element shows the type of non-linear activation function. The third element informs the type of pooling layer. Since the flattening layer has only one role of tranforms a feature map into a 1D vector, I would not define the layer here. Next, one linear hidden layer is arranged and followd by a non-linear activation function F2. Finally, the output would be come into another linear layer before being computed to the probabilities by the SoftMax function. Since the second hidden layer returns the probabilities over classes, I do not define the hyperparameter for the layer.\n",
        "\n",
        "$$\\mathbf{x} =[Conv2d, F1, Pooling, Linear1, F2] $$"
      ],
      "metadata": {
        "id": "eYZbaHp4p469"
      }
    },
    {
      "cell_type": "markdown",
      "source": [
        "# Define hyperparameter"
      ],
      "metadata": {
        "id": "r8I8vP5ZJ3L7"
      }
    },
    {
      "cell_type": "code",
      "source": [
        "# data hyperparams\n",
        "D = 64  # batch size\n",
        "K = 10 # classes\n",
        "\n",
        "\n",
        "# model hyperparams\n",
        "M = 256  # the number of neurons in scale (s) and translation (t) nets\n",
        "bias = False\n",
        "ld = 0.01 # lambda for evaluation\n",
        "pop_size = 20 # population size\n",
        "\n",
        "\n",
        "# -> training hyperparams\n",
        "num_generations = 100 # generation\n",
        "lr = 1e-3  # learning rate\n",
        "wd = 1e-5  # weight decay\n",
        "num_epochs = 20  # max. number of epochs\n",
        "max_patience = 10  # an early stopping is used, if training doesn't improve for longer than 20 epochs, it is stopped\n"
      ],
      "metadata": {
        "id": "pQQLCPREBx5L"
      },
      "execution_count": 8,
      "outputs": []
    },
    {
      "cell_type": "code",
      "source": [
        "# Define all parameters for each layer of the model\n",
        "params = {}\n",
        "params[\"Conv2d\"] = np.asarray([nn.Conv2d(1,8, kernel_size = (3,3), stride = 1, padding = 1),\n",
        "                                 nn.Conv2d(1,8, kernel_size = (2,2), stride = 1, padding = 2),\n",
        "                                 nn.Conv2d(1,16, kernel_size = (3,3), stride = 1, padding = 1),\n",
        "                                 nn.Conv2d(1,16, kernel_size = (2,2), stride = 1, padding = 2),\n",
        "                                 nn.Conv2d(1,32, kernel_size = (3,3), stride = 1, padding = 1),\n",
        "                                 nn.Conv2d(1,32, kernel_size = (2,2), stride = 1, padding = 2)])\n",
        "params[\"F1\"] = np.asarray([nn.ReLU(), nn.Sigmoid(), nn.Tanh(), nn.Softplus(), nn.ELU()])\n",
        "params[\"Pooling\"] = np.asarray([nn.MaxPool2d(2), nn.AvgPool2d(2), nn.MaxPool2d(1), nn.AvgPool2d(1)])\n",
        "params[\"Linear1\"] = np.asarray([10, 20, 30, 40, 50, 60, 70, 80, 90, 100])\n",
        "params[\"F2\"] = np.asarray([nn.ReLU(), nn.Sigmoid(), nn.Tanh(), nn.Softplus(), nn.ELU()])\n",
        "\n"
      ],
      "metadata": {
        "id": "oo9NzW9OBArM"
      },
      "execution_count": 9,
      "outputs": []
    },
    {
      "cell_type": "markdown",
      "source": [
        "# Evaluation"
      ],
      "metadata": {
        "id": "8MlYp2eZLHKj"
      }
    },
    {
      "cell_type": "code",
      "source": [
        "def evaluation(test_loader,name=None, model_best=None, epoch=None):\n",
        "    # If available, load the best performing model\n",
        "    if model_best is None:\n",
        "        model_best = torch.load(name + \".model\")\n",
        "  \n",
        "    # set the model to the evaluation mode\n",
        "    model_best.eval()  \n",
        "    loss_test = 0.0\n",
        "    loss_error = 0.0\n",
        "    N = 0.0\n",
        "    \n",
        "    # start evaluation\n",
        "    for indx_batch, (test_batch, test_targets) in enumerate(test_loader):\n",
        "        # loss (nll)\n",
        "        loss_test_batch = model_best.forward(test_batch, test_targets, reduction=\"sum\")\n",
        "        # tensor.item() returns a tensor of 1 element into \n",
        "        # a standard Python nhmber\n",
        "        loss_test = loss_test + loss_test_batch.item()\n",
        "        # classification error\n",
        "        y_pred = model_best.classify(test_batch)\n",
        "        e = 1.0 * (y_pred == test_targets)\n",
        "        loss_error = loss_error + (1.0 - e).sum().item()\n",
        "        # the number of examples\n",
        "        N = N + test_batch.shape[0]\n",
        "    # divide by the number of examples\n",
        "    loss_test = loss_test / N\n",
        "    loss_error = loss_error / N\n",
        "\n",
        "    # Uncomment to see the evaluation on models\n",
        "    '''# Print the performance\n",
        "    if epoch is None:\n",
        "        print(f\"-> FINAL PERFORMANCE: nll={loss_test}, ce={loss_error}\")\n",
        "    else:\n",
        "        if epoch % 2 == 0:\n",
        "            print(f\"Epoch: {epoch}, val nll={loss_test}, val ce={loss_error}\")'''\n",
        "\n",
        "    return loss_test, loss_error\n"
      ],
      "metadata": {
        "id": "-yEBZXSlOlCy"
      },
      "execution_count": 11,
      "outputs": []
    },
    {
      "cell_type": "markdown",
      "source": [
        "# Training Procedure"
      ],
      "metadata": {
        "id": "FnL16BWIWNWO"
      }
    },
    {
      "cell_type": "code",
      "source": [
        "def training(name, max_patience, num_epochs, model, optimizer, training_loader, val_loader):\n",
        "    nll_val = []\n",
        "    error_val = []\n",
        "    best_nll = 1000.0\n",
        "    patience = 0\n",
        "\n",
        "    # Main training loop\n",
        "    for e in range(num_epochs):\n",
        "        # set the model to the training mode\n",
        "        model.train()  \n",
        "\n",
        "        # load batches\n",
        "        for indx_batch, (batch, targets) in enumerate(training_loader):\n",
        "            # calculate the forward pass (loss function for given images and labels)\n",
        "            loss = model.forward(batch, targets)\n",
        "            # remember we need to zero gradients! Just in case!\n",
        "            optimizer.zero_grad()\n",
        "            # calculate backward pass\n",
        "            loss.backward(retain_graph=True)\n",
        "            # run the optimizer\n",
        "            optimizer.step()\n",
        "\n",
        "        # Validation: Evaluate the model on the validation data\n",
        "        loss_e, error_e = evaluation(val_loader, model_best=model, epoch=e)\n",
        "        nll_val.append(loss_e)  # save for plotting\n",
        "        error_val.append(error_e)  # save for plotting\n",
        "\n",
        "        # Early-stopping: update the best performing model and break training if no\n",
        "        # progress is observed.\n",
        "        if e == 0:\n",
        "            torch.save(model, name + \".model\")\n",
        "            best_nll = loss_e\n",
        "        else:\n",
        "            if loss_e < best_nll:\n",
        "                torch.save(model, name + \".model\")\n",
        "                best_nll = loss_e\n",
        "                patience = 0\n",
        "            else:\n",
        "                patience = patience + 1\n",
        "\n",
        "        if patience > max_patience:\n",
        "            break\n",
        "\n",
        "    # Return nll and classification error.\n",
        "    nll_val = np.asarray(nll_val)\n",
        "    error_val = np.asarray(error_val)\n",
        "\n",
        "    return nll_val, error_val\n",
        "  "
      ],
      "metadata": {
        "id": "5M8A9uMiWKwY"
      },
      "execution_count": 12,
      "outputs": []
    },
    {
      "cell_type": "markdown",
      "source": [
        "# Plot Curve"
      ],
      "metadata": {
        "id": "iEPoOufCZuQv"
      }
    },
    {
      "cell_type": "code",
      "source": [
        "# An auxiliary function for plotting the performance curves\n",
        "def plot_curve(\n",
        "    name,\n",
        "    signal,\n",
        "    file_name=\"curve.pdf\",\n",
        "    xlabel=\"epochs\",\n",
        "    ylabel=\"nll\",\n",
        "    color=\"b-\",\n",
        "    test_eval=None,\n",
        "):\n",
        "    # plot the curve\n",
        "    plt.plot(\n",
        "        np.arange(len(signal)), signal, color, linewidth=\"3\", label=ylabel + \" val\"\n",
        "    )\n",
        "    # if available, add the final (test) performance\n",
        "    if test_eval is not None:\n",
        "        plt.hlines(\n",
        "            test_eval,\n",
        "            xmin=0,\n",
        "            xmax=len(signal),\n",
        "            linestyles=\"dashed\",\n",
        "            label=ylabel + \" test\",\n",
        "        )\n",
        "        plt.text(\n",
        "            len(signal),\n",
        "            test_eval,\n",
        "            \"{:.3f}\".format(test_eval),\n",
        "        )\n",
        "    # set x- and ylabels, add legend, save the figure\n",
        "    plt.xlabel(xlabel), plt.ylabel(ylabel)\n",
        "    plt.legend()\n",
        "    plt.savefig(name + file_name, bbox_inches=\"tight\")\n",
        "    plt.show()"
      ],
      "metadata": {
        "id": "0xb0Xj3nLGqY"
      },
      "execution_count": 13,
      "outputs": []
    },
    {
      "cell_type": "markdown",
      "source": [
        "# Convolutional Neural Network Setup"
      ],
      "metadata": {
        "id": "JcMAhkntypI_"
      }
    },
    {
      "cell_type": "code",
      "source": [
        "# Class define the configuration for a single CNN model\n",
        "class CNNModel(nn.Module):\n",
        "    def __init__(self,classnet):\n",
        "        super(CNNModel,self).__init__()\n",
        "        # define some hyperparameter\n",
        "        self.classnet = classnet\n",
        "        self.nllloss = nn.NLLLoss(reduction=\"none\")\n",
        "        \n",
        "    \n",
        "    # function returns the predicted class of the input\n",
        "    def classify(self,x):\n",
        "        predict = torch.argmax(self.classnet(x), dim = 1)\n",
        "\n",
        "        return predict\n",
        "\n",
        "    # function returns the negative log-likelihood loss\n",
        "    def forward(self, x, y, reduction= \"avg\"):\n",
        "        # predicted values\n",
        "        predict = self.classnet(x) \n",
        "\n",
        "        # loss = negative log likelihood of\n",
        "        # predicted and actual values\n",
        "        loss = self.nllloss(predict,y)\n",
        "\n",
        "        #--------\n",
        "        if reduction == \"sum\":\n",
        "            return loss.sum()\n",
        "        else:\n",
        "            return loss.mean()\n",
        "\n",
        "\n",
        "\n"
      ],
      "metadata": {
        "id": "Tr0YsyCdpMsw"
      },
      "execution_count": 10,
      "outputs": []
    },
    {
      "cell_type": "markdown",
      "source": [
        "# Implement CNN from a given model"
      ],
      "metadata": {
        "id": "rW1UaX6RcI52"
      }
    },
    {
      "cell_type": "code",
      "source": [
        "class NeuralPopulation(nn.Module):\n",
        "    def __init__(self, params, ld):\n",
        "        super(NeuralPopulation, self).__init__()\n",
        "        self.params = params.copy()\n",
        "        self.ld = ld\n",
        "        \n",
        "    \n",
        "    # The function would generate a random CNN model\n",
        "    # from the given elements\n",
        "    def generate_random_model(self):\n",
        "        conv2d = random.choice(self.params[\"Conv2d\"])\n",
        "        f1 = random.choice(self.params[\"F1\"])\n",
        "        pooling = random.choice(self.params[\"Pooling\"])\n",
        "        linear1 = random.choice(self.params[\"Linear1\"])\n",
        "        f2 = random.choice(self.params[\"F2\"])\n",
        "\n",
        "        return [conv2d,f1,pooling,linear1,f2]\n",
        "    \n",
        "    # Function would generate a population of CNN models\n",
        "    def generate_random_population(self, pop_size):\n",
        "        return np.asarray([self.generate_random_model() for _ in range(pop_size)])  \n",
        "\n",
        "    def create_directory(self):\n",
        "        # define the name for the model\n",
        "        name = \"classifier_cnn\"\n",
        "\n",
        "        # Start running CNN process\n",
        "        #print(\"\\n-> START {}\".format(name))\n",
        "\n",
        "        # Create a folder (REMEMBER: You must mount your drive if you use Colab!)\n",
        "        if name == \"classifier_cnn\":\n",
        "            name = name + \"_M_\" + str(M) \n",
        "\n",
        "        # Create a folder if necessary\n",
        "        result_dir = os.path.join(results_dir, \"results\" + name + \"/\")\n",
        "\n",
        "\n",
        "        # =========\n",
        "        # MAKE SURE THAT \"result_dir\" IS A PATH TO A LOCAL FOLDER OR A GOOGLE COLAB FOLDER (DEFINED IN CELL 3)\n",
        "        #result_dir = \"./\"  # (current folder)\n",
        "        # =========\n",
        "\n",
        "\n",
        "        if not (os.path.exists(result_dir)):\n",
        "            #os.mkdir(result_dir)\n",
        "            os.mkdir(result_dir)\n",
        "        \n",
        "        return name, result_dir\n",
        "    \n",
        "    def get_size(self, test_loader = test_loader, list_layer = None):\n",
        "\n",
        "      classnet = nn.Sequential(list_layer[0],\n",
        "                              list_layer[1],\n",
        "                              list_layer[2],\n",
        "                              nn.Flatten())\n",
        "      to_device(classnet,device)\n",
        "      \n",
        "      for indx_batch, (test_batch, test_targets) in enumerate(test_loader):\n",
        "          x = classnet(test_batch)\n",
        "          return x.shape[1]\n",
        "\n",
        "    def run_A_model(self, list_layer=None):\n",
        "      # create a directory\n",
        "      name, result_dir = self.create_directory()\n",
        "\n",
        "      # get size of the flattened vector \n",
        "      returned_size = self.get_size(test_loader,list_layer)\n",
        "\n",
        "      classnet = nn.Sequential(list_layer[0],\n",
        "                               list_layer[1],\n",
        "                               list_layer[2],\n",
        "                                nn.Flatten(),\n",
        "                               \n",
        "                                nn.Linear(returned_size,list_layer[3]),\n",
        "                                list_layer[4],\n",
        "                                nn.Linear(list_layer[3],10),\n",
        "                                nn.LogSoftmax(dim=1))\n",
        "\n",
        "\n",
        "      # Init ClassifierNN\n",
        "      model = CNNModel(classnet)\n",
        "      to_device(model, device)\n",
        "\n",
        "      # Init OPTIMIZER (here we use ADAMAX)\n",
        "      optimizer = torch.optim.Adamax(\n",
        "          [p for p in model.parameters() if p.requires_grad == True],\n",
        "          lr=lr,\n",
        "          weight_decay=wd,\n",
        "      )\n",
        "\n",
        "      # Training procedure\n",
        "      nll_val, error_val = training(\n",
        "          name=result_dir + name,\n",
        "          max_patience=max_patience,\n",
        "          num_epochs=num_epochs,\n",
        "          model=model,\n",
        "          optimizer=optimizer,\n",
        "          training_loader=train_loader,\n",
        "          val_loader=val_loader,\n",
        "      )\n",
        "\n",
        "      # The number of trainable weights in model\n",
        "      total_params = sum(p.numel() for p in model.parameters() if p.requires_grad)\n",
        "\n",
        "\n",
        "      # The final evaluation (on the test set)\n",
        "      test_loss, test_error = evaluation(name=result_dir + name, test_loader=test_loader)\n",
        "    \n",
        "      return test_loss, test_error, total_params \n",
        "\n",
        "\n",
        "\n",
        "    # function evaluate a population of models \n",
        "    def objective(self,x):\n",
        "        if len(x.shape) > 1:\n",
        "            objective_values = []\n",
        "            test_errors = []\n",
        "            total_params = []\n",
        "            for i in range(x.shape[0]):\n",
        "                list_layer = x[i]\n",
        "                _, test_error, total_param = self.run_A_model(list_layer)\n",
        "                test_errors.append(test_error)\n",
        "                total_params.append(total_param)\n",
        "            max_param = max(total_params)\n",
        "            total_params = [p/max_param for p in total_params]\n",
        "            return np.asarray([test_errors[i] + total_params[i]*self.ld for i in range(len(test_errors))])\n",
        "        else:\n",
        "            _, test_error,_ = self.run_A_model(list_layer)\n",
        "            return np.asarray([test_error + self.ld])   \n",
        "\n",
        "\n",
        "\n",
        "\n",
        "\n"
      ],
      "metadata": {
        "id": "dg1s2n8OkLHY"
      },
      "execution_count": 14,
      "outputs": []
    },
    {
      "cell_type": "markdown",
      "source": [
        "# Evolutionary Algorithm"
      ],
      "metadata": {
        "id": "YnlNF6toHU5o"
      }
    },
    {
      "cell_type": "code",
      "source": [
        "class EA(object):\n",
        "    def __init__(self,neuralpopulation,params,pop_size):\n",
        "        self.neuralpopulation = neuralpopulation\n",
        "        self.bounds = params\n",
        "        self.pop_size = pop_size\n",
        "        self.parent_mating_size = self.pop_size // 2\n",
        "\n",
        "    def linear_ranking_pro(self,ranks):\n",
        "        # define the slope of the linear ranking\n",
        "        sp = 1.5 \n",
        "        # return the probability after the linear ranking function\n",
        "        return np.asarray([(1/self.pop_size)*(sp - (2*sp - 2)*(rank+1-1)/(self.pop_size-1)) for rank in range(len(ranks))])\n",
        "    \n",
        "    def get_layer_name(self,index):\n",
        "        # return the name of layer from given index\n",
        "        name = [\"Conv2d\", \"F1\", \"Pooling\", \"Linear1\", \"F2\"]\n",
        "        return name[index]\n",
        "    \n",
        "    def parent_selection(self, x_old, f_old):\n",
        "        # sort population based on their evaluation\n",
        "        sort_x, sort_f = [np.asarray(t) for t in zip(*sorted(zip(x_old,f_old), key = lambda pair: pair[1]))]\n",
        "\n",
        "        # return the probabilities of x\n",
        "        pro_x = self.linear_ranking_pro(sort_f)\n",
        "        # make the sum of probabilities to 1\n",
        "        total = pro_x.sum()\n",
        "        pro_x = np.asarray([x/total for x in pro_x])\n",
        "\n",
        "        # set random pool\n",
        "        k = 2\n",
        "\n",
        "        # index of k chosen parents\n",
        "        indices = np.random.choice(len(pro_x), k, p = pro_x, replace = True)\n",
        "\n",
        "        # return parents and their evaluations\n",
        "        x_parents = np.asarray([sort_x[i] for i in indices])\n",
        "        f_parents = np.asarray([sort_f[i] for i in indices ])            \n",
        "        return x_parents, f_parents\n",
        "  \n",
        "    # method implement 1-one cross-over operator\n",
        "    def recombination(self,x_parents):\n",
        "        # flatten layer would be the cross-over point\n",
        "        crossover_point = np.random.randint(5)\n",
        "        pooling_size = x_parents.shape[0]\n",
        "        x_children = []\n",
        "        for child in range(pooling_size):\n",
        "            parentIndex1 = child % pooling_size\n",
        "            parentIndex2 = (child + 1) % pooling_size\n",
        "            # cross-over\n",
        "            x_children.append([*x_parents[parentIndex1,0:crossover_point], *x_parents[parentIndex2,crossover_point:]])\n",
        "        \n",
        "        return np.asarray(x_children)\n",
        "    \n",
        "    # method implement the stochastic mutation policy over mating individuals\n",
        "    def mutation(self,x,mute_rate):\n",
        "        for child in range(x.shape[0]):\n",
        "            # stochastic mutation\n",
        "            for gene in range(x.shape[1]):\n",
        "                mute_pro = np.random.rand()\n",
        "                if mute_rate <= mute_pro:\n",
        "                    x[child, gene] = np.random.choice(self.bounds[self.get_layer_name(gene)])\n",
        "        return x\n",
        "        \n",
        "    # method combines both parents and children set\n",
        "    # then, choose the best #pop_size individuals    \n",
        "    def survivor_selection(self,x_old, x_children, f_old, f_children):\n",
        "        combine_x = np.concatenate([x_old, x_children]) # model hyperparameters\n",
        "        combine_f = np.concatenate([f_old, f_children]) # fitness values\n",
        "        # select the best pop_size individuals\n",
        "        x, f = [np.asarray(t)[:self.pop_size] for t in zip(*sorted(zip(combine_x, combine_f), key = lambda pair: pair[1]))]\n",
        "\n",
        "        return x,f   \n",
        "\n",
        "  \n",
        "    # method returns evaluation for a set of an individual\n",
        "    def evaluation(self, x):\n",
        "        return self.neuralpopulation.objective(x)\n",
        "\n",
        "    # main method\n",
        "    def step(self, x_old, f_old):\n",
        "        # define mutation rate\n",
        "        mu = 0.5 # reserve most genes in the parents\n",
        "        x_parents, f_parents = self.parent_selection(x_old,f_old)\n",
        "        x_children = self.recombination(x_parents)\n",
        "        x_children = self.mutation(x_children, mu)\n",
        "        f_children = self.evaluation(x_children)\n",
        "        x, f = self.survivor_selection(x_old, x_children, f_old, f_children)\n",
        "\n",
        "        return x, f\n",
        "    \n"
      ],
      "metadata": {
        "id": "h-cMy707oKwU"
      },
      "execution_count": 15,
      "outputs": []
    },
    {
      "cell_type": "code",
      "source": [
        "# define NeuralPopulation class\n",
        "NP = NeuralPopulation(params,ld)\n",
        "\n",
        "# define Evolutionary Algorithm class\n",
        "ea = EA(NP,params,pop_size)\n",
        "\n",
        "# generate a sample of population and its evaluation\n",
        "x = NP.generate_random_population(pop_size)\n",
        "f = NP.objective(x)\n",
        "\n",
        "# define population\n",
        "populations = []\n",
        "populations.append(x)\n",
        "\n",
        "# the best candidate is one whose evaluation is the lowest \n",
        "x_best = [x[np.argmin(f)]]\n",
        "f_best = [f.min()]\n",
        "\n"
      ],
      "metadata": {
        "id": "Hj-B973hM-vj"
      },
      "execution_count": 17,
      "outputs": []
    },
    {
      "cell_type": "code",
      "source": [
        "\n",
        "# Run EA\n",
        "for i in range(num_generations):\n",
        "    if i % int(5) == 0:\n",
        "        print(\"Generation: {}, best fitness: {:}\".format(i, f.min()))\n",
        "    # x is the initial population\n",
        "    # f is the evaluation of the population\n",
        "    x, f = ea.step(x, f)\n",
        "\n",
        "    populations.append(x)\n",
        "    if f.min() < f_best[-1]:\n",
        "        f_best.append(f.min())\n",
        "        x_best.append(x[np.argmin(f)])\n",
        "    else:\n",
        "        f_best.append(f_best[-1])\n",
        "        x_best.append(x_best[-1])\n",
        "print(\"FINISHED!\")"
      ],
      "metadata": {
        "colab": {
          "base_uri": "https://localhost:8080/"
        },
        "id": "2-DojhIp6JJJ",
        "outputId": "92cbf54e-5613-4e65-c569-346045c16aea"
      },
      "execution_count": 18,
      "outputs": [
        {
          "output_type": "stream",
          "name": "stdout",
          "text": [
            "Generation: 0, best fitness: 0.061740157618035925\n",
            "Generation: 5, best fitness: 0.061740157618035925\n",
            "Generation: 10, best fitness: 0.061740157618035925\n",
            "Generation: 15, best fitness: 0.061740157618035925\n",
            "Generation: 20, best fitness: 0.05911714232078002\n",
            "Generation: 25, best fitness: 0.05911714232078002\n",
            "Generation: 30, best fitness: 0.05911714232078002\n",
            "Generation: 35, best fitness: 0.05911714232078002\n",
            "Generation: 40, best fitness: 0.05911714232078002\n",
            "Generation: 45, best fitness: 0.05148161925739929\n",
            "Generation: 50, best fitness: 0.05148161925739929\n",
            "Generation: 55, best fitness: 0.05148161925739929\n",
            "Generation: 60, best fitness: 0.05148161925739929\n",
            "Generation: 65, best fitness: 0.05148161925739929\n",
            "Generation: 70, best fitness: 0.05148161925739929\n",
            "Generation: 75, best fitness: 0.05148161925739929\n",
            "Generation: 80, best fitness: 0.05148161925739929\n",
            "Generation: 85, best fitness: 0.04882580444204153\n",
            "Generation: 90, best fitness: 0.04882580444204153\n",
            "Generation: 95, best fitness: 0.04882580444204153\n",
            "FINISHED!\n"
          ]
        }
      ]
    },
    {
      "cell_type": "markdown",
      "source": [
        "**Plot the convergence**"
      ],
      "metadata": {
        "id": "0EIGNFKZKOd_"
      }
    },
    {
      "cell_type": "code",
      "source": [
        "plt.plot(range(len(f_best)), f_best)\n",
        "plt.title(\"The convergence\")\n",
        "plt.grid()\n",
        "plt.savefig(\"convergence\")"
      ],
      "metadata": {
        "colab": {
          "base_uri": "https://localhost:8080/",
          "height": 452
        },
        "id": "z4cZP8TVXmsv",
        "outputId": "d96550f8-a640-46d6-eac2-e1bca31998f0"
      },
      "execution_count": 19,
      "outputs": [
        {
          "output_type": "display_data",
          "data": {
            "text/plain": [
              "<Figure size 640x480 with 1 Axes>"
            ],
            "image/png": "[encoded data removed]"
          },
          "metadata": {}
        }
      ]
    },
    {
      "cell_type": "markdown",
      "source": [
        "Configuration of the best model"
      ],
      "metadata": {
        "id": "QG47Q6oToD6V"
      }
    },
    {
      "cell_type": "code",
      "source": [
        "print(f\"The best model: {x_best[-1]}\")"
      ],
      "metadata": {
        "colab": {
          "base_uri": "https://localhost:8080/"
        },
        "id": "rz9QWat7mp0c",
        "outputId": "e30a6527-7d64-4f06-f477-018c6bef5994"
      },
      "execution_count": null,
      "outputs": [
        {
          "output_type": "execute_result",
          "data": {
            "text/plain": [
              "array([Conv2d(1, 32, kernel_size=(3, 3), stride=(1, 1), padding=(1, 1)),\n",
              "       Softplus(beta=1, threshold=20),\n",
              "       MaxPool2d(kernel_size=2, stride=2, padding=0, dilation=1, ceil_mode=False),\n",
              "       30, Sigmoid()], dtype=object)"
            ]
          },
          "metadata": {},
          "execution_count": 25
        }
      ]
    },
    {
      "cell_type": "markdown",
      "source": [
        "# Investigate the best model"
      ],
      "metadata": {
        "id": "cTpIogErKa6c"
      }
    },
    {
      "cell_type": "code",
      "source": [
        "# method is created to retrain one specific model\n",
        "class BestNeuralNetwork(nn.Module):\n",
        "    def __init__(self, params, ld):\n",
        "        super(BestNeuralNetwork, self).__init__()\n",
        "        self.params = params.copy()\n",
        "        self.ld = ld\n",
        "         \n",
        "\n",
        "    def create_directory(self):\n",
        "        # define the name for the model\n",
        "        name = \"classifier_cnn\"\n",
        "\n",
        "        # Start running CNN process\n",
        "        #print(\"\\n-> START {}\".format(name))\n",
        "\n",
        "        # Create a folder (REMEMBER: You must mount your drive if you use Colab!)\n",
        "        if name == \"classifier_cnn\":\n",
        "            name = name + \"_M_\" + str(M) \n",
        "\n",
        "        # Create a folder if necessary\n",
        "        result_dir = os.path.join(results_dir, \"results\" + name + \"/\")\n",
        "\n",
        "\n",
        "        # =========\n",
        "        # MAKE SURE THAT \"result_dir\" IS A PATH TO A LOCAL FOLDER OR A GOOGLE COLAB FOLDER (DEFINED IN CELL 3)\n",
        "        #result_dir = \"./\"  # (current folder)\n",
        "        # =========\n",
        "\n",
        "\n",
        "        if not (os.path.exists(result_dir)):\n",
        "            #os.mkdir(result_dir)\n",
        "            os.mkdir(result_dir)\n",
        "        \n",
        "        return name, result_dir\n",
        "    \n",
        "    def get_size(self, test_loader = test_loader, list_layer = None):\n",
        "\n",
        "      classnet = nn.Sequential(list_layer[0],\n",
        "                              list_layer[1],\n",
        "                              list_layer[2],\n",
        "                              nn.Flatten())\n",
        "      to_device(classnet,device)\n",
        "      \n",
        "      for indx_batch, (test_batch, test_targets) in enumerate(test_loader):\n",
        "          x = classnet(test_batch)\n",
        "          return x.shape[1]\n",
        "\n",
        "    def run_A_model(self, list_layer=None):\n",
        "      # create a directory\n",
        "      name, result_dir = self.create_directory()\n",
        "\n",
        "      # get size of the flattened vector \n",
        "      returned_size = self.get_size(test_loader,list_layer)\n",
        "\n",
        "      classnet = nn.Sequential(list_layer[0],\n",
        "                                list_layer[1],\n",
        "                                list_layer[2],\n",
        "                                nn.Flatten(),\n",
        "                                \n",
        "                                nn.Linear(returned_size,list_layer[3]),\n",
        "                                list_layer[4],\n",
        "                                nn.Linear(list_layer[3],10),\n",
        "                                nn.LogSoftmax(dim=1))\n",
        "\n",
        "\n",
        "      # Init ClassifierNN\n",
        "      model = CNNModel(classnet)\n",
        "      to_device(model, device)\n",
        "\n",
        "      # Init OPTIMIZER (here we use ADAMAX)\n",
        "      optimizer = torch.optim.Adamax(\n",
        "          [p for p in model.parameters() if p.requires_grad == True],\n",
        "          lr=lr,\n",
        "          weight_decay=wd,\n",
        "      )\n",
        "\n",
        "      # Training procedure\n",
        "      nll_val, error_val = training(\n",
        "          name=result_dir + name,\n",
        "          max_patience=max_patience,\n",
        "          num_epochs=num_epochs,\n",
        "          model=model,\n",
        "          optimizer=optimizer,\n",
        "          training_loader=train_loader,\n",
        "          val_loader=val_loader,\n",
        "      )\n",
        "\n",
        "\n",
        "      # The final evaluation (on the test set)\n",
        "      test_loss, test_error = evaluation(name=result_dir + name, test_loader=test_loader)\n",
        "\n",
        "      # write the results to a file\n",
        "      f = open(result_dir + name + \"_test_loss.txt\", \"w\")\n",
        "      f.write(\"NLL: \" + str(test_loss) + \"\\nCE: \" + str(test_error))\n",
        "      f.close()\n",
        "\n",
        "      # create curves\n",
        "      plot_curve(\n",
        "          result_dir + name,\n",
        "          nll_val,\n",
        "          file_name=\"_nll_val_curve.pdf\",\n",
        "          ylabel=\"nll\",\n",
        "          test_eval=test_loss,\n",
        "      )\n",
        "      plot_curve(\n",
        "          result_dir + name,\n",
        "          error_val,\n",
        "          file_name=\"_ca_val_curve.pdf\",\n",
        "          ylabel=\"ce\",\n",
        "          color=\"r-\",\n",
        "          test_eval=test_error,\n",
        "      )\n",
        "\n",
        "    \n",
        "      return test_loss, test_error \n",
        "\n",
        "    def run_multiple_time(self, list_layer):\n",
        "        # create a directory\n",
        "        name, result_dir = self.create_directory()\n",
        "        multi_loss, multi_error = [], []\n",
        "        for i in range(100):\n",
        "\n",
        "            # get size of the flattened vector \n",
        "            returned_size = self.get_size(test_loader,list_layer)\n",
        "\n",
        "            classnet = nn.Sequential(list_layer[0],\n",
        "                                    list_layer[1],\n",
        "                                    list_layer[2],\n",
        "                                      nn.Flatten(),\n",
        "                                    \n",
        "                                      nn.Linear(returned_size,list_layer[3]),\n",
        "                                      list_layer[4],\n",
        "                                      nn.Linear(list_layer[3],10),\n",
        "                                      nn.LogSoftmax(dim=1))\n",
        "\n",
        "\n",
        "            # Init ClassifierNN\n",
        "            model = CNNModel(classnet)\n",
        "            to_device(model, device)\n",
        "\n",
        "            # Init OPTIMIZER (here we use ADAMAX)\n",
        "            optimizer = torch.optim.Adamax(\n",
        "                [p for p in model.parameters() if p.requires_grad == True],\n",
        "                lr=lr,\n",
        "                weight_decay=wd,\n",
        "            )\n",
        "\n",
        "            # Training procedure\n",
        "            nll_val, error_val = training(\n",
        "                name=result_dir + name,\n",
        "                max_patience=max_patience,\n",
        "                num_epochs=num_epochs,\n",
        "                model=model,\n",
        "                optimizer=optimizer,\n",
        "                training_loader=train_loader,\n",
        "                val_loader=val_loader,\n",
        "            )\n",
        "\n",
        "\n",
        "            # The final evaluation (on the test set)\n",
        "            test_loss, test_error = evaluation(name=result_dir + name, test_loader=test_loader)\n",
        "            multi_loss.append(test_loss)\n",
        "            multi_error.append(test_error)\n",
        "\n",
        "\n",
        "        return multi_loss, multi_error \n",
        "\n",
        "\n",
        "\n",
        "\n",
        "\n",
        "\n",
        "\n"
      ],
      "metadata": {
        "id": "ogRzPCTUnt4i"
      },
      "execution_count": null,
      "outputs": []
    },
    {
      "cell_type": "markdown",
      "source": [
        "**The negative log likelihood loss and the classification error** "
      ],
      "metadata": {
        "id": "JhfV1BxNKsqx"
      }
    },
    {
      "cell_type": "code",
      "source": [
        "bestmodel = BestNeuralNetwork(params, ld)\n",
        "test_loss, test_error = bestmodel.run_A_model(x_best[-1])"
      ],
      "metadata": {
        "colab": {
          "base_uri": "https://localhost:8080/",
          "height": 881
        },
        "id": "TXiXn7kMnuON",
        "outputId": "9af67688-f1b4-46d5-b930-2852b45d607f"
      },
      "execution_count": null,
      "outputs": [
        {
          "output_type": "display_data",
          "data": {
            "text/plain": [
              "<Figure size 640x480 with 1 Axes>"
            ],
            "image/png": "[encoded data removed]"
          },
          "metadata": {}
        },
        {
          "output_type": "display_data",
          "data": {
            "text/plain": [
              "<Figure size 640x480 with 1 Axes>"
            ],
            "image/png": "[encoded data removed]"
          },
          "metadata": {}
        }
      ]
    },
    {
      "cell_type": "code",
      "source": [
        "multi_loss, multi_error = bestmodel.run_multiple_time(x_best[-1])"
      ],
      "metadata": {
        "id": "cYq1Mw3gsHI-"
      },
      "execution_count": null,
      "outputs": []
    },
    {
      "cell_type": "code",
      "source": [
        "# plot the stability\n",
        "plt.plot(range(len(multi_error)), multi_error)\n",
        "plt.title(\"The stability of classification error\")\n",
        "plt.grid()\n",
        "plt.savefig(\"stable\")"
      ],
      "metadata": {
        "colab": {
          "base_uri": "https://localhost:8080/",
          "height": 452
        },
        "id": "_OJGPeB6sjii",
        "outputId": "151b8535-95bd-4426-e9ca-269fad4b24fd"
      },
      "execution_count": null,
      "outputs": [
        {
          "output_type": "display_data",
          "data": {
            "text/plain": [
              "<Figure size 640x480 with 1 Axes>"
            ],
            "image/png": "[encoded data removed]"
          },
          "metadata": {}
        }
      ]
    },
    {
      "cell_type": "code",
      "source": [
        "# importing mean() and std()\n",
        "from statistics import mean"
      ],
      "metadata": {
        "id": "TORJ_hJDtm93"
      },
      "execution_count": null,
      "outputs": []
    },
    {
      "cell_type": "code",
      "source": [
        "print(f\"The mean classification error: {mean(multi_error)}\")\n",
        "print(f\"The standard deviation error: {np.std(multi_error)}\")"
      ],
      "metadata": {
        "colab": {
          "base_uri": "https://localhost:8080/"
        },
        "id": "aIW4BJ2ss_1j",
        "outputId": "8cd51ab4-e87e-4434-a893-626ac15010a9"
      },
      "execution_count": null,
      "outputs": [
        {
          "output_type": "stream",
          "name": "stdout",
          "text": [
            "The mean classification error: 0.07234899328859061\n",
            "The standard deviation error: 0.012883342399718167\n"
          ]
        }
      ]
    }
  ]
}